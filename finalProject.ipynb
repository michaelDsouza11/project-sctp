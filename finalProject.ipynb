{
 "cells": [
  {
   "cell_type": "code",
   "execution_count": 74,
   "metadata": {},
   "outputs": [],
   "source": [
    "import os\n",
    "import pandas as pd\n",
    "import numpy as np\n",
    "import matplotlib as mlt\n",
    "import matplotlib.pyplot as plt\n",
    "%matplotlib inline\n",
    "from sklearn.model_selection import train_test_split\n",
    "from sklearn import tree\n",
    "from sklearn.metrics import accuracy_score\n",
    "from sklearn.metrics import confusion_matrix\n",
    "import statsmodels.api as sm\n",
    "from sklearn import preprocessing\n",
    "from sklearn.naive_bayes import GaussianNB"
   ]
  },
  {
   "cell_type": "code",
   "execution_count": 75,
   "metadata": {},
   "outputs": [],
   "source": [
    "os.chdir(\"C:/Users/michael/Desktop/edWisor/PROJECT/santander project\")"
   ]
  },
  {
   "cell_type": "code",
   "execution_count": 76,
   "metadata": {},
   "outputs": [
    {
     "data": {
      "text/plain": [
       "'C:\\\\Users\\\\michael\\\\Desktop\\\\edWisor\\\\PROJECT\\\\santander project'"
      ]
     },
     "execution_count": 76,
     "metadata": {},
     "output_type": "execute_result"
    }
   ],
   "source": [
    "os.getcwd()"
   ]
  },
  {
   "cell_type": "code",
   "execution_count": 4,
   "metadata": {},
   "outputs": [],
   "source": [
    "train = pd.read_csv(\"train.csv\")"
   ]
  },
  {
   "cell_type": "code",
   "execution_count": 5,
   "metadata": {},
   "outputs": [
    {
     "data": {
      "text/plain": [
       "(200000, 202)"
      ]
     },
     "execution_count": 5,
     "metadata": {},
     "output_type": "execute_result"
    }
   ],
   "source": [
    "train.shape"
   ]
  },
  {
   "cell_type": "code",
   "execution_count": 6,
   "metadata": {},
   "outputs": [
    {
     "data": {
      "text/html": [
       "<div>\n",
       "<style scoped>\n",
       "    .dataframe tbody tr th:only-of-type {\n",
       "        vertical-align: middle;\n",
       "    }\n",
       "\n",
       "    .dataframe tbody tr th {\n",
       "        vertical-align: top;\n",
       "    }\n",
       "\n",
       "    .dataframe thead th {\n",
       "        text-align: right;\n",
       "    }\n",
       "</style>\n",
       "<table border=\"1\" class=\"dataframe\">\n",
       "  <thead>\n",
       "    <tr style=\"text-align: right;\">\n",
       "      <th></th>\n",
       "      <th>ID_code</th>\n",
       "      <th>target</th>\n",
       "      <th>var_0</th>\n",
       "      <th>var_1</th>\n",
       "      <th>var_2</th>\n",
       "      <th>var_3</th>\n",
       "      <th>var_4</th>\n",
       "      <th>var_5</th>\n",
       "      <th>var_6</th>\n",
       "      <th>var_7</th>\n",
       "      <th>...</th>\n",
       "      <th>var_190</th>\n",
       "      <th>var_191</th>\n",
       "      <th>var_192</th>\n",
       "      <th>var_193</th>\n",
       "      <th>var_194</th>\n",
       "      <th>var_195</th>\n",
       "      <th>var_196</th>\n",
       "      <th>var_197</th>\n",
       "      <th>var_198</th>\n",
       "      <th>var_199</th>\n",
       "    </tr>\n",
       "  </thead>\n",
       "  <tbody>\n",
       "    <tr>\n",
       "      <td>0</td>\n",
       "      <td>train_0</td>\n",
       "      <td>0</td>\n",
       "      <td>8.9255</td>\n",
       "      <td>-6.7863</td>\n",
       "      <td>11.9081</td>\n",
       "      <td>5.0930</td>\n",
       "      <td>11.4607</td>\n",
       "      <td>-9.2834</td>\n",
       "      <td>5.1187</td>\n",
       "      <td>18.6266</td>\n",
       "      <td>...</td>\n",
       "      <td>4.4354</td>\n",
       "      <td>3.9642</td>\n",
       "      <td>3.1364</td>\n",
       "      <td>1.6910</td>\n",
       "      <td>18.5227</td>\n",
       "      <td>-2.3978</td>\n",
       "      <td>7.8784</td>\n",
       "      <td>8.5635</td>\n",
       "      <td>12.7803</td>\n",
       "      <td>-1.0914</td>\n",
       "    </tr>\n",
       "    <tr>\n",
       "      <td>1</td>\n",
       "      <td>train_1</td>\n",
       "      <td>0</td>\n",
       "      <td>11.5006</td>\n",
       "      <td>-4.1473</td>\n",
       "      <td>13.8588</td>\n",
       "      <td>5.3890</td>\n",
       "      <td>12.3622</td>\n",
       "      <td>7.0433</td>\n",
       "      <td>5.6208</td>\n",
       "      <td>16.5338</td>\n",
       "      <td>...</td>\n",
       "      <td>7.6421</td>\n",
       "      <td>7.7214</td>\n",
       "      <td>2.5837</td>\n",
       "      <td>10.9516</td>\n",
       "      <td>15.4305</td>\n",
       "      <td>2.0339</td>\n",
       "      <td>8.1267</td>\n",
       "      <td>8.7889</td>\n",
       "      <td>18.3560</td>\n",
       "      <td>1.9518</td>\n",
       "    </tr>\n",
       "    <tr>\n",
       "      <td>2</td>\n",
       "      <td>train_2</td>\n",
       "      <td>0</td>\n",
       "      <td>8.6093</td>\n",
       "      <td>-2.7457</td>\n",
       "      <td>12.0805</td>\n",
       "      <td>7.8928</td>\n",
       "      <td>10.5825</td>\n",
       "      <td>-9.0837</td>\n",
       "      <td>6.9427</td>\n",
       "      <td>14.6155</td>\n",
       "      <td>...</td>\n",
       "      <td>2.9057</td>\n",
       "      <td>9.7905</td>\n",
       "      <td>1.6704</td>\n",
       "      <td>1.6858</td>\n",
       "      <td>21.6042</td>\n",
       "      <td>3.1417</td>\n",
       "      <td>-6.5213</td>\n",
       "      <td>8.2675</td>\n",
       "      <td>14.7222</td>\n",
       "      <td>0.3965</td>\n",
       "    </tr>\n",
       "    <tr>\n",
       "      <td>3</td>\n",
       "      <td>train_3</td>\n",
       "      <td>0</td>\n",
       "      <td>11.0604</td>\n",
       "      <td>-2.1518</td>\n",
       "      <td>8.9522</td>\n",
       "      <td>7.1957</td>\n",
       "      <td>12.5846</td>\n",
       "      <td>-1.8361</td>\n",
       "      <td>5.8428</td>\n",
       "      <td>14.9250</td>\n",
       "      <td>...</td>\n",
       "      <td>4.4666</td>\n",
       "      <td>4.7433</td>\n",
       "      <td>0.7178</td>\n",
       "      <td>1.4214</td>\n",
       "      <td>23.0347</td>\n",
       "      <td>-1.2706</td>\n",
       "      <td>-2.9275</td>\n",
       "      <td>10.2922</td>\n",
       "      <td>17.9697</td>\n",
       "      <td>-8.9996</td>\n",
       "    </tr>\n",
       "    <tr>\n",
       "      <td>4</td>\n",
       "      <td>train_4</td>\n",
       "      <td>0</td>\n",
       "      <td>9.8369</td>\n",
       "      <td>-1.4834</td>\n",
       "      <td>12.8746</td>\n",
       "      <td>6.6375</td>\n",
       "      <td>12.2772</td>\n",
       "      <td>2.4486</td>\n",
       "      <td>5.9405</td>\n",
       "      <td>19.2514</td>\n",
       "      <td>...</td>\n",
       "      <td>-1.4905</td>\n",
       "      <td>9.5214</td>\n",
       "      <td>-0.1508</td>\n",
       "      <td>9.1942</td>\n",
       "      <td>13.2876</td>\n",
       "      <td>-1.5121</td>\n",
       "      <td>3.9267</td>\n",
       "      <td>9.5031</td>\n",
       "      <td>17.9974</td>\n",
       "      <td>-8.8104</td>\n",
       "    </tr>\n",
       "  </tbody>\n",
       "</table>\n",
       "<p>5 rows × 202 columns</p>\n",
       "</div>"
      ],
      "text/plain": [
       "   ID_code  target    var_0   var_1    var_2   var_3    var_4   var_5   var_6  \\\n",
       "0  train_0       0   8.9255 -6.7863  11.9081  5.0930  11.4607 -9.2834  5.1187   \n",
       "1  train_1       0  11.5006 -4.1473  13.8588  5.3890  12.3622  7.0433  5.6208   \n",
       "2  train_2       0   8.6093 -2.7457  12.0805  7.8928  10.5825 -9.0837  6.9427   \n",
       "3  train_3       0  11.0604 -2.1518   8.9522  7.1957  12.5846 -1.8361  5.8428   \n",
       "4  train_4       0   9.8369 -1.4834  12.8746  6.6375  12.2772  2.4486  5.9405   \n",
       "\n",
       "     var_7  ...  var_190  var_191  var_192  var_193  var_194  var_195  \\\n",
       "0  18.6266  ...   4.4354   3.9642   3.1364   1.6910  18.5227  -2.3978   \n",
       "1  16.5338  ...   7.6421   7.7214   2.5837  10.9516  15.4305   2.0339   \n",
       "2  14.6155  ...   2.9057   9.7905   1.6704   1.6858  21.6042   3.1417   \n",
       "3  14.9250  ...   4.4666   4.7433   0.7178   1.4214  23.0347  -1.2706   \n",
       "4  19.2514  ...  -1.4905   9.5214  -0.1508   9.1942  13.2876  -1.5121   \n",
       "\n",
       "   var_196  var_197  var_198  var_199  \n",
       "0   7.8784   8.5635  12.7803  -1.0914  \n",
       "1   8.1267   8.7889  18.3560   1.9518  \n",
       "2  -6.5213   8.2675  14.7222   0.3965  \n",
       "3  -2.9275  10.2922  17.9697  -8.9996  \n",
       "4   3.9267   9.5031  17.9974  -8.8104  \n",
       "\n",
       "[5 rows x 202 columns]"
      ]
     },
     "execution_count": 6,
     "metadata": {},
     "output_type": "execute_result"
    }
   ],
   "source": [
    "train.head(5)"
   ]
  },
  {
   "cell_type": "code",
   "execution_count": 7,
   "metadata": {},
   "outputs": [],
   "source": [
    "missing_values = pd.DataFrame(train.isnull().sum())"
   ]
  },
  {
   "cell_type": "code",
   "execution_count": 8,
   "metadata": {},
   "outputs": [
    {
     "data": {
      "text/html": [
       "<div>\n",
       "<style scoped>\n",
       "    .dataframe tbody tr th:only-of-type {\n",
       "        vertical-align: middle;\n",
       "    }\n",
       "\n",
       "    .dataframe tbody tr th {\n",
       "        vertical-align: top;\n",
       "    }\n",
       "\n",
       "    .dataframe thead th {\n",
       "        text-align: right;\n",
       "    }\n",
       "</style>\n",
       "<table border=\"1\" class=\"dataframe\">\n",
       "  <thead>\n",
       "    <tr style=\"text-align: right;\">\n",
       "      <th></th>\n",
       "      <th>0</th>\n",
       "    </tr>\n",
       "  </thead>\n",
       "  <tbody>\n",
       "    <tr>\n",
       "      <td>ID_code</td>\n",
       "      <td>0</td>\n",
       "    </tr>\n",
       "    <tr>\n",
       "      <td>target</td>\n",
       "      <td>0</td>\n",
       "    </tr>\n",
       "    <tr>\n",
       "      <td>var_0</td>\n",
       "      <td>0</td>\n",
       "    </tr>\n",
       "    <tr>\n",
       "      <td>var_1</td>\n",
       "      <td>0</td>\n",
       "    </tr>\n",
       "    <tr>\n",
       "      <td>var_2</td>\n",
       "      <td>0</td>\n",
       "    </tr>\n",
       "    <tr>\n",
       "      <td>...</td>\n",
       "      <td>...</td>\n",
       "    </tr>\n",
       "    <tr>\n",
       "      <td>var_195</td>\n",
       "      <td>0</td>\n",
       "    </tr>\n",
       "    <tr>\n",
       "      <td>var_196</td>\n",
       "      <td>0</td>\n",
       "    </tr>\n",
       "    <tr>\n",
       "      <td>var_197</td>\n",
       "      <td>0</td>\n",
       "    </tr>\n",
       "    <tr>\n",
       "      <td>var_198</td>\n",
       "      <td>0</td>\n",
       "    </tr>\n",
       "    <tr>\n",
       "      <td>var_199</td>\n",
       "      <td>0</td>\n",
       "    </tr>\n",
       "  </tbody>\n",
       "</table>\n",
       "<p>202 rows × 1 columns</p>\n",
       "</div>"
      ],
      "text/plain": [
       "         0\n",
       "ID_code  0\n",
       "target   0\n",
       "var_0    0\n",
       "var_1    0\n",
       "var_2    0\n",
       "...     ..\n",
       "var_195  0\n",
       "var_196  0\n",
       "var_197  0\n",
       "var_198  0\n",
       "var_199  0\n",
       "\n",
       "[202 rows x 1 columns]"
      ]
     },
     "execution_count": 8,
     "metadata": {},
     "output_type": "execute_result"
    }
   ],
   "source": [
    "missing_values"
   ]
  },
  {
   "cell_type": "code",
   "execution_count": 9,
   "metadata": {},
   "outputs": [
    {
     "data": {
      "text/plain": [
       "(array([179902.,      0.,      0.,      0.,      0.,      0.,      0.,\n",
       "             0.,      0.,      0.,      0.,      0.,      0.,      0.,\n",
       "             0.,      0.,      0.,      0.,  20098.]),\n",
       " array([0.        , 0.05263158, 0.10526316, 0.15789474, 0.21052632,\n",
       "        0.26315789, 0.31578947, 0.36842105, 0.42105263, 0.47368421,\n",
       "        0.52631579, 0.57894737, 0.63157895, 0.68421053, 0.73684211,\n",
       "        0.78947368, 0.84210526, 0.89473684, 0.94736842, 1.        ]),\n",
       " <a list of 19 Patch objects>)"
      ]
     },
     "execution_count": 9,
     "metadata": {},
     "output_type": "execute_result"
    },
    {
     "data": {
      "image/png": "[encoded data removed]",
      "text/plain": [
       "<Figure size 432x288 with 1 Axes>"
      ]
     },
     "metadata": {
      "needs_background": "light"
     },
     "output_type": "display_data"
    }
   ],
   "source": [
    "plt.hist(train['target'], bins = 'auto')"
   ]
  },
  {
   "cell_type": "code",
   "execution_count": 13,
   "metadata": {},
   "outputs": [],
   "source": [
    "train = train.drop(['ID_code'], axis = 1)"
   ]
  },
  {
   "cell_type": "code",
   "execution_count": 14,
   "metadata": {
    "scrolled": true
   },
   "outputs": [
    {
     "data": {
      "text/html": [
       "<div>\n",
       "<style scoped>\n",
       "    .dataframe tbody tr th:only-of-type {\n",
       "        vertical-align: middle;\n",
       "    }\n",
       "\n",
       "    .dataframe tbody tr th {\n",
       "        vertical-align: top;\n",
       "    }\n",
       "\n",
       "    .dataframe thead th {\n",
       "        text-align: right;\n",
       "    }\n",
       "</style>\n",
       "<table border=\"1\" class=\"dataframe\">\n",
       "  <thead>\n",
       "    <tr style=\"text-align: right;\">\n",
       "      <th></th>\n",
       "      <th>target</th>\n",
       "      <th>var_0</th>\n",
       "      <th>var_1</th>\n",
       "      <th>var_2</th>\n",
       "      <th>var_3</th>\n",
       "      <th>var_4</th>\n",
       "      <th>var_5</th>\n",
       "      <th>var_6</th>\n",
       "      <th>var_7</th>\n",
       "      <th>var_8</th>\n",
       "      <th>...</th>\n",
       "      <th>var_190</th>\n",
       "      <th>var_191</th>\n",
       "      <th>var_192</th>\n",
       "      <th>var_193</th>\n",
       "      <th>var_194</th>\n",
       "      <th>var_195</th>\n",
       "      <th>var_196</th>\n",
       "      <th>var_197</th>\n",
       "      <th>var_198</th>\n",
       "      <th>var_199</th>\n",
       "    </tr>\n",
       "  </thead>\n",
       "  <tbody>\n",
       "    <tr>\n",
       "      <td>0</td>\n",
       "      <td>0</td>\n",
       "      <td>8.9255</td>\n",
       "      <td>-6.7863</td>\n",
       "      <td>11.9081</td>\n",
       "      <td>5.0930</td>\n",
       "      <td>11.4607</td>\n",
       "      <td>-9.2834</td>\n",
       "      <td>5.1187</td>\n",
       "      <td>18.6266</td>\n",
       "      <td>-4.9200</td>\n",
       "      <td>...</td>\n",
       "      <td>4.4354</td>\n",
       "      <td>3.9642</td>\n",
       "      <td>3.1364</td>\n",
       "      <td>1.6910</td>\n",
       "      <td>18.5227</td>\n",
       "      <td>-2.3978</td>\n",
       "      <td>7.8784</td>\n",
       "      <td>8.5635</td>\n",
       "      <td>12.7803</td>\n",
       "      <td>-1.0914</td>\n",
       "    </tr>\n",
       "    <tr>\n",
       "      <td>1</td>\n",
       "      <td>0</td>\n",
       "      <td>11.5006</td>\n",
       "      <td>-4.1473</td>\n",
       "      <td>13.8588</td>\n",
       "      <td>5.3890</td>\n",
       "      <td>12.3622</td>\n",
       "      <td>7.0433</td>\n",
       "      <td>5.6208</td>\n",
       "      <td>16.5338</td>\n",
       "      <td>3.1468</td>\n",
       "      <td>...</td>\n",
       "      <td>7.6421</td>\n",
       "      <td>7.7214</td>\n",
       "      <td>2.5837</td>\n",
       "      <td>10.9516</td>\n",
       "      <td>15.4305</td>\n",
       "      <td>2.0339</td>\n",
       "      <td>8.1267</td>\n",
       "      <td>8.7889</td>\n",
       "      <td>18.3560</td>\n",
       "      <td>1.9518</td>\n",
       "    </tr>\n",
       "    <tr>\n",
       "      <td>2</td>\n",
       "      <td>0</td>\n",
       "      <td>8.6093</td>\n",
       "      <td>-2.7457</td>\n",
       "      <td>12.0805</td>\n",
       "      <td>7.8928</td>\n",
       "      <td>10.5825</td>\n",
       "      <td>-9.0837</td>\n",
       "      <td>6.9427</td>\n",
       "      <td>14.6155</td>\n",
       "      <td>-4.9193</td>\n",
       "      <td>...</td>\n",
       "      <td>2.9057</td>\n",
       "      <td>9.7905</td>\n",
       "      <td>1.6704</td>\n",
       "      <td>1.6858</td>\n",
       "      <td>21.6042</td>\n",
       "      <td>3.1417</td>\n",
       "      <td>-6.5213</td>\n",
       "      <td>8.2675</td>\n",
       "      <td>14.7222</td>\n",
       "      <td>0.3965</td>\n",
       "    </tr>\n",
       "    <tr>\n",
       "      <td>3</td>\n",
       "      <td>0</td>\n",
       "      <td>11.0604</td>\n",
       "      <td>-2.1518</td>\n",
       "      <td>8.9522</td>\n",
       "      <td>7.1957</td>\n",
       "      <td>12.5846</td>\n",
       "      <td>-1.8361</td>\n",
       "      <td>5.8428</td>\n",
       "      <td>14.9250</td>\n",
       "      <td>-5.8609</td>\n",
       "      <td>...</td>\n",
       "      <td>4.4666</td>\n",
       "      <td>4.7433</td>\n",
       "      <td>0.7178</td>\n",
       "      <td>1.4214</td>\n",
       "      <td>23.0347</td>\n",
       "      <td>-1.2706</td>\n",
       "      <td>-2.9275</td>\n",
       "      <td>10.2922</td>\n",
       "      <td>17.9697</td>\n",
       "      <td>-8.9996</td>\n",
       "    </tr>\n",
       "    <tr>\n",
       "      <td>4</td>\n",
       "      <td>0</td>\n",
       "      <td>9.8369</td>\n",
       "      <td>-1.4834</td>\n",
       "      <td>12.8746</td>\n",
       "      <td>6.6375</td>\n",
       "      <td>12.2772</td>\n",
       "      <td>2.4486</td>\n",
       "      <td>5.9405</td>\n",
       "      <td>19.2514</td>\n",
       "      <td>6.2654</td>\n",
       "      <td>...</td>\n",
       "      <td>-1.4905</td>\n",
       "      <td>9.5214</td>\n",
       "      <td>-0.1508</td>\n",
       "      <td>9.1942</td>\n",
       "      <td>13.2876</td>\n",
       "      <td>-1.5121</td>\n",
       "      <td>3.9267</td>\n",
       "      <td>9.5031</td>\n",
       "      <td>17.9974</td>\n",
       "      <td>-8.8104</td>\n",
       "    </tr>\n",
       "  </tbody>\n",
       "</table>\n",
       "<p>5 rows × 201 columns</p>\n",
       "</div>"
      ],
      "text/plain": [
       "   target    var_0   var_1    var_2   var_3    var_4   var_5   var_6    var_7  \\\n",
       "0       0   8.9255 -6.7863  11.9081  5.0930  11.4607 -9.2834  5.1187  18.6266   \n",
       "1       0  11.5006 -4.1473  13.8588  5.3890  12.3622  7.0433  5.6208  16.5338   \n",
       "2       0   8.6093 -2.7457  12.0805  7.8928  10.5825 -9.0837  6.9427  14.6155   \n",
       "3       0  11.0604 -2.1518   8.9522  7.1957  12.5846 -1.8361  5.8428  14.9250   \n",
       "4       0   9.8369 -1.4834  12.8746  6.6375  12.2772  2.4486  5.9405  19.2514   \n",
       "\n",
       "    var_8  ...  var_190  var_191  var_192  var_193  var_194  var_195  var_196  \\\n",
       "0 -4.9200  ...   4.4354   3.9642   3.1364   1.6910  18.5227  -2.3978   7.8784   \n",
       "1  3.1468  ...   7.6421   7.7214   2.5837  10.9516  15.4305   2.0339   8.1267   \n",
       "2 -4.9193  ...   2.9057   9.7905   1.6704   1.6858  21.6042   3.1417  -6.5213   \n",
       "3 -5.8609  ...   4.4666   4.7433   0.7178   1.4214  23.0347  -1.2706  -2.9275   \n",
       "4  6.2654  ...  -1.4905   9.5214  -0.1508   9.1942  13.2876  -1.5121   3.9267   \n",
       "\n",
       "   var_197  var_198  var_199  \n",
       "0   8.5635  12.7803  -1.0914  \n",
       "1   8.7889  18.3560   1.9518  \n",
       "2   8.2675  14.7222   0.3965  \n",
       "3  10.2922  17.9697  -8.9996  \n",
       "4   9.5031  17.9974  -8.8104  \n",
       "\n",
       "[5 rows x 201 columns]"
      ]
     },
     "execution_count": 14,
     "metadata": {},
     "output_type": "execute_result"
    }
   ],
   "source": [
    "train.head(5)"
   ]
  },
  {
   "cell_type": "code",
   "execution_count": null,
   "metadata": {},
   "outputs": [],
   "source": [
    "############################################# MODEL SELECTION ################################################################"
   ]
  },
  {
   "cell_type": "code",
   "execution_count": null,
   "metadata": {},
   "outputs": [],
   "source": [
    "#################################################### DecisionTree ###########################################################\n",
    "#Accuracy = 83.34 %\n",
    "#Precision = 19.09\n",
    "#Recall = 20.09\n",
    "#F1 score = 19.4 "
   ]
  },
  {
   "cell_type": "code",
   "execution_count": 15,
   "metadata": {},
   "outputs": [],
   "source": [
    "X = train.values[:, 1:200]"
   ]
  },
  {
   "cell_type": "code",
   "execution_count": 16,
   "metadata": {},
   "outputs": [],
   "source": [
    "Y = train.values[:, 0]"
   ]
  },
  {
   "cell_type": "code",
   "execution_count": 17,
   "metadata": {},
   "outputs": [],
   "source": [
    "X_train, X_test, Y_train, Y_test = train_test_split(X, Y, test_size = 0.2)"
   ]
  },
  {
   "cell_type": "code",
   "execution_count": 18,
   "metadata": {},
   "outputs": [],
   "source": [
    "model1 = tree.DecisionTreeClassifier(criterion = 'entropy').fit(X_train, Y_train)"
   ]
  },
  {
   "cell_type": "code",
   "execution_count": 19,
   "metadata": {},
   "outputs": [
    {
     "data": {
      "text/plain": [
       "DecisionTreeClassifier(class_weight=None, criterion='entropy', max_depth=None,\n",
       "                       max_features=None, max_leaf_nodes=None,\n",
       "                       min_impurity_decrease=0.0, min_impurity_split=None,\n",
       "                       min_samples_leaf=1, min_samples_split=2,\n",
       "                       min_weight_fraction_leaf=0.0, presort=False,\n",
       "                       random_state=None, splitter='best')"
      ]
     },
     "execution_count": 19,
     "metadata": {},
     "output_type": "execute_result"
    }
   ],
   "source": [
    "model1"
   ]
  },
  {
   "cell_type": "code",
   "execution_count": 20,
   "metadata": {},
   "outputs": [],
   "source": [
    "model1_pred = model1.predict(X_test)"
   ]
  },
  {
   "cell_type": "code",
   "execution_count": 21,
   "metadata": {},
   "outputs": [],
   "source": [
    "con_mat1 = confusion_matrix(Y_test, model1_pred)"
   ]
  },
  {
   "cell_type": "code",
   "execution_count": 23,
   "metadata": {},
   "outputs": [],
   "source": [
    "con_mat1 = pd.crosstab(Y_test, model1_pred)"
   ]
  },
  {
   "cell_type": "code",
   "execution_count": 24,
   "metadata": {},
   "outputs": [
    {
     "data": {
      "text/html": [
       "<div>\n",
       "<style scoped>\n",
       "    .dataframe tbody tr th:only-of-type {\n",
       "        vertical-align: middle;\n",
       "    }\n",
       "\n",
       "    .dataframe tbody tr th {\n",
       "        vertical-align: top;\n",
       "    }\n",
       "\n",
       "    .dataframe thead th {\n",
       "        text-align: right;\n",
       "    }\n",
       "</style>\n",
       "<table border=\"1\" class=\"dataframe\">\n",
       "  <thead>\n",
       "    <tr style=\"text-align: right;\">\n",
       "      <th>col_0</th>\n",
       "      <th>0.0</th>\n",
       "      <th>1.0</th>\n",
       "    </tr>\n",
       "    <tr>\n",
       "      <th>row_0</th>\n",
       "      <th></th>\n",
       "      <th></th>\n",
       "    </tr>\n",
       "  </thead>\n",
       "  <tbody>\n",
       "    <tr>\n",
       "      <td>0.0</td>\n",
       "      <td>32527</td>\n",
       "      <td>3437</td>\n",
       "    </tr>\n",
       "    <tr>\n",
       "      <td>1.0</td>\n",
       "      <td>3225</td>\n",
       "      <td>811</td>\n",
       "    </tr>\n",
       "  </tbody>\n",
       "</table>\n",
       "</div>"
      ],
      "text/plain": [
       "col_0    0.0   1.0\n",
       "row_0             \n",
       "0.0    32527  3437\n",
       "1.0     3225   811"
      ]
     },
     "execution_count": 24,
     "metadata": {},
     "output_type": "execute_result"
    }
   ],
   "source": [
    "con_mat1"
   ]
  },
  {
   "cell_type": "code",
   "execution_count": 25,
   "metadata": {},
   "outputs": [],
   "source": [
    "TN = con_mat1.iloc[0,0]\n",
    "FN = con_mat1.iloc[1,0]\n",
    "TP = con_mat1.iloc[1,1]\n",
    "FP = con_mat1.iloc[0,1]"
   ]
  },
  {
   "cell_type": "code",
   "execution_count": 26,
   "metadata": {},
   "outputs": [],
   "source": [
    "accuracy = accuracy_score(Y_test, model1_pred)*100"
   ]
  },
  {
   "cell_type": "code",
   "execution_count": 27,
   "metadata": {},
   "outputs": [
    {
     "data": {
      "text/plain": [
       "83.345"
      ]
     },
     "execution_count": 27,
     "metadata": {},
     "output_type": "execute_result"
    }
   ],
   "source": [
    "accuracy"
   ]
  },
  {
   "cell_type": "code",
   "execution_count": 28,
   "metadata": {},
   "outputs": [],
   "source": [
    "precision = (TP)/(TP+FP)"
   ]
  },
  {
   "cell_type": "code",
   "execution_count": 29,
   "metadata": {},
   "outputs": [
    {
     "data": {
      "text/plain": [
       "0.19091337099811675"
      ]
     },
     "execution_count": 29,
     "metadata": {},
     "output_type": "execute_result"
    }
   ],
   "source": [
    "precision"
   ]
  },
  {
   "cell_type": "code",
   "execution_count": 30,
   "metadata": {},
   "outputs": [],
   "source": [
    "recall = (TP)/(TP+FN)"
   ]
  },
  {
   "cell_type": "code",
   "execution_count": 31,
   "metadata": {},
   "outputs": [
    {
     "data": {
      "text/plain": [
       "0.20094152626362735"
      ]
     },
     "execution_count": 31,
     "metadata": {},
     "output_type": "execute_result"
    }
   ],
   "source": [
    "recall"
   ]
  },
  {
   "cell_type": "code",
   "execution_count": 32,
   "metadata": {},
   "outputs": [],
   "source": [
    "f1_score = 2*(0.097) "
   ]
  },
  {
   "cell_type": "code",
   "execution_count": 33,
   "metadata": {},
   "outputs": [
    {
     "data": {
      "text/plain": [
       "0.194"
      ]
     },
     "execution_count": 33,
     "metadata": {},
     "output_type": "execute_result"
    }
   ],
   "source": [
    "f1_score"
   ]
  },
  {
   "cell_type": "code",
   "execution_count": null,
   "metadata": {},
   "outputs": [],
   "source": [
    "################################################## Logistic Regression ########################################################\n",
    "#Accuracy = 91.24 %\n",
    "#Precision = 66.83\n",
    "#Recall = 26.28\n",
    "#F1 score = 37.6"
   ]
  },
  {
   "cell_type": "code",
   "execution_count": 34,
   "metadata": {},
   "outputs": [],
   "source": [
    "sample = np.random.rand(len(train))<0.8"
   ]
  },
  {
   "cell_type": "code",
   "execution_count": 35,
   "metadata": {},
   "outputs": [],
   "source": [
    "train_data = train[sample]"
   ]
  },
  {
   "cell_type": "code",
   "execution_count": 36,
   "metadata": {},
   "outputs": [],
   "source": [
    "test_data = train[~sample]"
   ]
  },
  {
   "cell_type": "code",
   "execution_count": 37,
   "metadata": {},
   "outputs": [],
   "source": [
    "train_cols = train.columns[1:200]"
   ]
  },
  {
   "cell_type": "code",
   "execution_count": 38,
   "metadata": {},
   "outputs": [
    {
     "data": {
      "text/plain": [
       "Index(['var_0', 'var_1', 'var_2', 'var_3', 'var_4', 'var_5', 'var_6', 'var_7',\n",
       "       'var_8', 'var_9',\n",
       "       ...\n",
       "       'var_189', 'var_190', 'var_191', 'var_192', 'var_193', 'var_194',\n",
       "       'var_195', 'var_196', 'var_197', 'var_198'],\n",
       "      dtype='object', length=199)"
      ]
     },
     "execution_count": 38,
     "metadata": {},
     "output_type": "execute_result"
    }
   ],
   "source": [
    "train_cols"
   ]
  },
  {
   "cell_type": "code",
   "execution_count": 39,
   "metadata": {},
   "outputs": [
    {
     "name": "stdout",
     "output_type": "stream",
     "text": [
      "Optimization terminated successfully.\n",
      "         Current function value: 0.231745\n",
      "         Iterations 8\n"
     ]
    }
   ],
   "source": [
    "model2 = sm.Logit(train_data['target'], train_data[train_cols]).fit()"
   ]
  },
  {
   "cell_type": "code",
   "execution_count": 40,
   "metadata": {},
   "outputs": [
    {
     "data": {
      "text/html": [
       "<table class=\"simpletable\">\n",
       "<caption>Logit Regression Results</caption>\n",
       "<tr>\n",
       "  <th>Dep. Variable:</th>        <td>target</td>      <th>  No. Observations:  </th>  <td>159951</td> \n",
       "</tr>\n",
       "<tr>\n",
       "  <th>Model:</th>                 <td>Logit</td>      <th>  Df Residuals:      </th>  <td>159752</td> \n",
       "</tr>\n",
       "<tr>\n",
       "  <th>Method:</th>                 <td>MLE</td>       <th>  Df Model:          </th>  <td>   198</td> \n",
       "</tr>\n",
       "<tr>\n",
       "  <th>Date:</th>            <td>Wed, 06 Nov 2019</td> <th>  Pseudo R-squ.:     </th>  <td>0.2898</td> \n",
       "</tr>\n",
       "<tr>\n",
       "  <th>Time:</th>                <td>19:18:09</td>     <th>  Log-Likelihood:    </th> <td> -37068.</td>\n",
       "</tr>\n",
       "<tr>\n",
       "  <th>converged:</th>             <td>True</td>       <th>  LL-Null:           </th> <td> -52197.</td>\n",
       "</tr>\n",
       "<tr>\n",
       "  <th>Covariance Type:</th>     <td>nonrobust</td>    <th>  LLR p-value:       </th>  <td> 0.000</td> \n",
       "</tr>\n",
       "</table>\n",
       "<table class=\"simpletable\">\n",
       "<tr>\n",
       "     <td></td>        <th>coef</th>     <th>std err</th>      <th>z</th>      <th>P>|z|</th>  <th>[0.025</th>    <th>0.975]</th>  \n",
       "</tr>\n",
       "<tr>\n",
       "  <th>var_0</th>   <td>    0.0548</td> <td>    0.003</td> <td>   17.499</td> <td> 0.000</td> <td>    0.049</td> <td>    0.061</td>\n",
       "</tr>\n",
       "<tr>\n",
       "  <th>var_1</th>   <td>    0.0389</td> <td>    0.002</td> <td>   16.340</td> <td> 0.000</td> <td>    0.034</td> <td>    0.044</td>\n",
       "</tr>\n",
       "<tr>\n",
       "  <th>var_2</th>   <td>    0.0688</td> <td>    0.004</td> <td>   19.098</td> <td> 0.000</td> <td>    0.062</td> <td>    0.076</td>\n",
       "</tr>\n",
       "<tr>\n",
       "  <th>var_3</th>   <td>    0.0176</td> <td>    0.005</td> <td>    3.712</td> <td> 0.000</td> <td>    0.008</td> <td>    0.027</td>\n",
       "</tr>\n",
       "<tr>\n",
       "  <th>var_4</th>   <td>    0.0213</td> <td>    0.006</td> <td>    3.588</td> <td> 0.000</td> <td>    0.010</td> <td>    0.033</td>\n",
       "</tr>\n",
       "<tr>\n",
       "  <th>var_5</th>   <td>    0.0138</td> <td>    0.001</td> <td>   11.264</td> <td> 0.000</td> <td>    0.011</td> <td>    0.016</td>\n",
       "</tr>\n",
       "<tr>\n",
       "  <th>var_6</th>   <td>    0.2596</td> <td>    0.011</td> <td>   23.552</td> <td> 0.000</td> <td>    0.238</td> <td>    0.281</td>\n",
       "</tr>\n",
       "<tr>\n",
       "  <th>var_7</th>   <td>   -0.0032</td> <td>    0.003</td> <td>   -1.127</td> <td> 0.260</td> <td>   -0.009</td> <td>    0.002</td>\n",
       "</tr>\n",
       "<tr>\n",
       "  <th>var_8</th>   <td>    0.0155</td> <td>    0.003</td> <td>    5.339</td> <td> 0.000</td> <td>    0.010</td> <td>    0.021</td>\n",
       "</tr>\n",
       "<tr>\n",
       "  <th>var_9</th>   <td>   -0.1152</td> <td>    0.008</td> <td>  -14.850</td> <td> 0.000</td> <td>   -0.130</td> <td>   -0.100</td>\n",
       "</tr>\n",
       "<tr>\n",
       "  <th>var_10</th>  <td>   -0.0011</td> <td>    0.002</td> <td>   -0.621</td> <td> 0.534</td> <td>   -0.005</td> <td>    0.002</td>\n",
       "</tr>\n",
       "<tr>\n",
       "  <th>var_11</th>  <td>    0.0131</td> <td>    0.002</td> <td>    8.100</td> <td> 0.000</td> <td>    0.010</td> <td>    0.016</td>\n",
       "</tr>\n",
       "<tr>\n",
       "  <th>var_12</th>  <td>   -1.1261</td> <td>    0.050</td> <td>  -22.624</td> <td> 0.000</td> <td>   -1.224</td> <td>   -1.029</td>\n",
       "</tr>\n",
       "<tr>\n",
       "  <th>var_13</th>  <td>   -0.0397</td> <td>    0.002</td> <td>  -19.234</td> <td> 0.000</td> <td>   -0.044</td> <td>   -0.036</td>\n",
       "</tr>\n",
       "<tr>\n",
       "  <th>var_14</th>  <td>   -0.0113</td> <td>    0.004</td> <td>   -2.619</td> <td> 0.009</td> <td>   -0.020</td> <td>   -0.003</td>\n",
       "</tr>\n",
       "<tr>\n",
       "  <th>var_15</th>  <td>    0.1322</td> <td>    0.023</td> <td>    5.645</td> <td> 0.000</td> <td>    0.086</td> <td>    0.178</td>\n",
       "</tr>\n",
       "<tr>\n",
       "  <th>var_16</th>  <td>    0.0064</td> <td>    0.004</td> <td>    1.701</td> <td> 0.089</td> <td>   -0.001</td> <td>    0.014</td>\n",
       "</tr>\n",
       "<tr>\n",
       "  <th>var_17</th>  <td>    0.0001</td> <td>    0.001</td> <td>    0.090</td> <td> 0.929</td> <td>   -0.003</td> <td>    0.003</td>\n",
       "</tr>\n",
       "<tr>\n",
       "  <th>var_18</th>  <td>    0.0170</td> <td>    0.001</td> <td>   13.895</td> <td> 0.000</td> <td>    0.015</td> <td>    0.019</td>\n",
       "</tr>\n",
       "<tr>\n",
       "  <th>var_19</th>  <td>    0.0045</td> <td>    0.001</td> <td>    3.696</td> <td> 0.000</td> <td>    0.002</td> <td>    0.007</td>\n",
       "</tr>\n",
       "<tr>\n",
       "  <th>var_20</th>  <td>   -0.0108</td> <td>    0.002</td> <td>   -6.589</td> <td> 0.000</td> <td>   -0.014</td> <td>   -0.008</td>\n",
       "</tr>\n",
       "<tr>\n",
       "  <th>var_21</th>  <td>   -0.0234</td> <td>    0.001</td> <td>  -19.815</td> <td> 0.000</td> <td>   -0.026</td> <td>   -0.021</td>\n",
       "</tr>\n",
       "<tr>\n",
       "  <th>var_22</th>  <td>    0.0708</td> <td>    0.003</td> <td>   21.109</td> <td> 0.000</td> <td>    0.064</td> <td>    0.077</td>\n",
       "</tr>\n",
       "<tr>\n",
       "  <th>var_23</th>  <td>   -0.1597</td> <td>    0.018</td> <td>   -8.685</td> <td> 0.000</td> <td>   -0.196</td> <td>   -0.124</td>\n",
       "</tr>\n",
       "<tr>\n",
       "  <th>var_24</th>  <td>    0.0246</td> <td>    0.003</td> <td>    9.668</td> <td> 0.000</td> <td>    0.020</td> <td>    0.030</td>\n",
       "</tr>\n",
       "<tr>\n",
       "  <th>var_25</th>  <td>    0.1475</td> <td>    0.034</td> <td>    4.389</td> <td> 0.000</td> <td>    0.082</td> <td>    0.213</td>\n",
       "</tr>\n",
       "<tr>\n",
       "  <th>var_26</th>  <td>    0.0331</td> <td>    0.002</td> <td>   20.648</td> <td> 0.000</td> <td>    0.030</td> <td>    0.036</td>\n",
       "</tr>\n",
       "<tr>\n",
       "  <th>var_27</th>  <td>   -0.0053</td> <td>    0.006</td> <td>   -0.828</td> <td> 0.408</td> <td>   -0.018</td> <td>    0.007</td>\n",
       "</tr>\n",
       "<tr>\n",
       "  <th>var_28</th>  <td>   -0.1000</td> <td>    0.012</td> <td>   -8.102</td> <td> 0.000</td> <td>   -0.124</td> <td>   -0.076</td>\n",
       "</tr>\n",
       "<tr>\n",
       "  <th>var_29</th>  <td>    0.0111</td> <td>    0.004</td> <td>    2.995</td> <td> 0.003</td> <td>    0.004</td> <td>    0.018</td>\n",
       "</tr>\n",
       "<tr>\n",
       "  <th>var_30</th>  <td>   -0.0004</td> <td>    0.001</td> <td>   -0.301</td> <td> 0.763</td> <td>   -0.003</td> <td>    0.002</td>\n",
       "</tr>\n",
       "<tr>\n",
       "  <th>var_31</th>  <td>   -0.0426</td> <td>    0.004</td> <td>   -9.497</td> <td> 0.000</td> <td>   -0.051</td> <td>   -0.034</td>\n",
       "</tr>\n",
       "<tr>\n",
       "  <th>var_32</th>  <td>    0.0377</td> <td>    0.004</td> <td>   10.111</td> <td> 0.000</td> <td>    0.030</td> <td>    0.045</td>\n",
       "</tr>\n",
       "<tr>\n",
       "  <th>var_33</th>  <td>   -0.0360</td> <td>    0.002</td> <td>  -16.039</td> <td> 0.000</td> <td>   -0.040</td> <td>   -0.032</td>\n",
       "</tr>\n",
       "<tr>\n",
       "  <th>var_34</th>  <td>   -0.3109</td> <td>    0.018</td> <td>  -17.439</td> <td> 0.000</td> <td>   -0.346</td> <td>   -0.276</td>\n",
       "</tr>\n",
       "<tr>\n",
       "  <th>var_35</th>  <td>    0.0246</td> <td>    0.002</td> <td>   13.199</td> <td> 0.000</td> <td>    0.021</td> <td>    0.028</td>\n",
       "</tr>\n",
       "<tr>\n",
       "  <th>var_36</th>  <td>   -0.0432</td> <td>    0.003</td> <td>  -13.987</td> <td> 0.000</td> <td>   -0.049</td> <td>   -0.037</td>\n",
       "</tr>\n",
       "<tr>\n",
       "  <th>var_37</th>  <td>    0.0142</td> <td>    0.004</td> <td>    3.317</td> <td> 0.001</td> <td>    0.006</td> <td>    0.023</td>\n",
       "</tr>\n",
       "<tr>\n",
       "  <th>var_38</th>  <td>    0.0012</td> <td>    0.002</td> <td>    0.533</td> <td> 0.594</td> <td>   -0.003</td> <td>    0.006</td>\n",
       "</tr>\n",
       "<tr>\n",
       "  <th>var_39</th>  <td>   -0.0027</td> <td>    0.002</td> <td>   -1.139</td> <td> 0.255</td> <td>   -0.007</td> <td>    0.002</td>\n",
       "</tr>\n",
       "<tr>\n",
       "  <th>var_40</th>  <td>    0.0198</td> <td>    0.001</td> <td>   17.065</td> <td> 0.000</td> <td>    0.018</td> <td>    0.022</td>\n",
       "</tr>\n",
       "<tr>\n",
       "  <th>var_41</th>  <td>   -0.0001</td> <td>    0.002</td> <td>   -0.086</td> <td> 0.931</td> <td>   -0.003</td> <td>    0.003</td>\n",
       "</tr>\n",
       "<tr>\n",
       "  <th>var_42</th>  <td>   -0.0398</td> <td>    0.014</td> <td>   -2.874</td> <td> 0.004</td> <td>   -0.067</td> <td>   -0.013</td>\n",
       "</tr>\n",
       "<tr>\n",
       "  <th>var_43</th>  <td>   -0.2750</td> <td>    0.031</td> <td>   -8.834</td> <td> 0.000</td> <td>   -0.336</td> <td>   -0.214</td>\n",
       "</tr>\n",
       "<tr>\n",
       "  <th>var_44</th>  <td>   -0.0281</td> <td>    0.002</td> <td>  -17.496</td> <td> 0.000</td> <td>   -0.031</td> <td>   -0.025</td>\n",
       "</tr>\n",
       "<tr>\n",
       "  <th>var_45</th>  <td>   -0.0034</td> <td>    0.000</td> <td>   -7.488</td> <td> 0.000</td> <td>   -0.004</td> <td>   -0.002</td>\n",
       "</tr>\n",
       "<tr>\n",
       "  <th>var_46</th>  <td>    0.0070</td> <td>    0.003</td> <td>    2.060</td> <td> 0.039</td> <td>    0.000</td> <td>    0.014</td>\n",
       "</tr>\n",
       "<tr>\n",
       "  <th>var_47</th>  <td>    0.0026</td> <td>    0.001</td> <td>    2.798</td> <td> 0.005</td> <td>    0.001</td> <td>    0.004</td>\n",
       "</tr>\n",
       "<tr>\n",
       "  <th>var_48</th>  <td>    0.0097</td> <td>    0.001</td> <td>   11.352</td> <td> 0.000</td> <td>    0.008</td> <td>    0.011</td>\n",
       "</tr>\n",
       "<tr>\n",
       "  <th>var_49</th>  <td>    0.0127</td> <td>    0.001</td> <td>   10.327</td> <td> 0.000</td> <td>    0.010</td> <td>    0.015</td>\n",
       "</tr>\n",
       "<tr>\n",
       "  <th>var_50</th>  <td>   -0.0604</td> <td>    0.014</td> <td>   -4.332</td> <td> 0.000</td> <td>   -0.088</td> <td>   -0.033</td>\n",
       "</tr>\n",
       "<tr>\n",
       "  <th>var_51</th>  <td>    0.0094</td> <td>    0.001</td> <td>    7.986</td> <td> 0.000</td> <td>    0.007</td> <td>    0.012</td>\n",
       "</tr>\n",
       "<tr>\n",
       "  <th>var_52</th>  <td>    0.0176</td> <td>    0.002</td> <td>    9.094</td> <td> 0.000</td> <td>    0.014</td> <td>    0.021</td>\n",
       "</tr>\n",
       "<tr>\n",
       "  <th>var_53</th>  <td>    0.2819</td> <td>    0.013</td> <td>   22.467</td> <td> 0.000</td> <td>    0.257</td> <td>    0.307</td>\n",
       "</tr>\n",
       "<tr>\n",
       "  <th>var_54</th>  <td>   -0.0066</td> <td>    0.001</td> <td>   -5.747</td> <td> 0.000</td> <td>   -0.009</td> <td>   -0.004</td>\n",
       "</tr>\n",
       "<tr>\n",
       "  <th>var_55</th>  <td>    0.0111</td> <td>    0.002</td> <td>    6.575</td> <td> 0.000</td> <td>    0.008</td> <td>    0.014</td>\n",
       "</tr>\n",
       "<tr>\n",
       "  <th>var_56</th>  <td>   -0.0307</td> <td>    0.003</td> <td>  -11.351</td> <td> 0.000</td> <td>   -0.036</td> <td>   -0.025</td>\n",
       "</tr>\n",
       "<tr>\n",
       "  <th>var_57</th>  <td>   -0.0666</td> <td>    0.012</td> <td>   -5.481</td> <td> 0.000</td> <td>   -0.090</td> <td>   -0.043</td>\n",
       "</tr>\n",
       "<tr>\n",
       "  <th>var_58</th>  <td>   -0.0179</td> <td>    0.002</td> <td>   -7.983</td> <td> 0.000</td> <td>   -0.022</td> <td>   -0.014</td>\n",
       "</tr>\n",
       "<tr>\n",
       "  <th>var_59</th>  <td>   -0.0381</td> <td>    0.011</td> <td>   -3.367</td> <td> 0.001</td> <td>   -0.060</td> <td>   -0.016</td>\n",
       "</tr>\n",
       "<tr>\n",
       "  <th>var_60</th>  <td>    0.0057</td> <td>    0.002</td> <td>    2.502</td> <td> 0.012</td> <td>    0.001</td> <td>    0.010</td>\n",
       "</tr>\n",
       "<tr>\n",
       "  <th>var_61</th>  <td>    0.0023</td> <td>    0.001</td> <td>    2.702</td> <td> 0.007</td> <td>    0.001</td> <td>    0.004</td>\n",
       "</tr>\n",
       "<tr>\n",
       "  <th>var_62</th>  <td>    0.0270</td> <td>    0.005</td> <td>    5.693</td> <td> 0.000</td> <td>    0.018</td> <td>    0.036</td>\n",
       "</tr>\n",
       "<tr>\n",
       "  <th>var_63</th>  <td>   -0.0154</td> <td>    0.003</td> <td>   -4.971</td> <td> 0.000</td> <td>   -0.021</td> <td>   -0.009</td>\n",
       "</tr>\n",
       "<tr>\n",
       "  <th>var_64</th>  <td>   -0.0296</td> <td>    0.006</td> <td>   -4.565</td> <td> 0.000</td> <td>   -0.042</td> <td>   -0.017</td>\n",
       "</tr>\n",
       "<tr>\n",
       "  <th>var_65</th>  <td>    0.0067</td> <td>    0.003</td> <td>    2.603</td> <td> 0.009</td> <td>    0.002</td> <td>    0.012</td>\n",
       "</tr>\n",
       "<tr>\n",
       "  <th>var_66</th>  <td>    0.0607</td> <td>    0.009</td> <td>    7.070</td> <td> 0.000</td> <td>    0.044</td> <td>    0.078</td>\n",
       "</tr>\n",
       "<tr>\n",
       "  <th>var_67</th>  <td>    0.0191</td> <td>    0.001</td> <td>   14.569</td> <td> 0.000</td> <td>    0.017</td> <td>    0.022</td>\n",
       "</tr>\n",
       "<tr>\n",
       "  <th>var_68</th>  <td>    6.2190</td> <td>    0.303</td> <td>   20.520</td> <td> 0.000</td> <td>    5.625</td> <td>    6.813</td>\n",
       "</tr>\n",
       "<tr>\n",
       "  <th>var_69</th>  <td>    0.0035</td> <td>    0.002</td> <td>    1.447</td> <td> 0.148</td> <td>   -0.001</td> <td>    0.008</td>\n",
       "</tr>\n",
       "<tr>\n",
       "  <th>var_70</th>  <td>    0.0069</td> <td>    0.001</td> <td>    8.577</td> <td> 0.000</td> <td>    0.005</td> <td>    0.009</td>\n",
       "</tr>\n",
       "<tr>\n",
       "  <th>var_71</th>  <td>    0.3869</td> <td>    0.036</td> <td>   10.671</td> <td> 0.000</td> <td>    0.316</td> <td>    0.458</td>\n",
       "</tr>\n",
       "<tr>\n",
       "  <th>var_72</th>  <td>   -0.0127</td> <td>    0.002</td> <td>   -5.171</td> <td> 0.000</td> <td>   -0.017</td> <td>   -0.008</td>\n",
       "</tr>\n",
       "<tr>\n",
       "  <th>var_73</th>  <td>   -0.0028</td> <td>    0.001</td> <td>   -2.127</td> <td> 0.033</td> <td>   -0.005</td> <td>   -0.000</td>\n",
       "</tr>\n",
       "<tr>\n",
       "  <th>var_74</th>  <td>    0.0048</td> <td>    0.001</td> <td>    7.043</td> <td> 0.000</td> <td>    0.003</td> <td>    0.006</td>\n",
       "</tr>\n",
       "<tr>\n",
       "  <th>var_75</th>  <td>   -0.0203</td> <td>    0.002</td> <td>  -12.758</td> <td> 0.000</td> <td>   -0.023</td> <td>   -0.017</td>\n",
       "</tr>\n",
       "<tr>\n",
       "  <th>var_76</th>  <td>   -0.0260</td> <td>    0.001</td> <td>  -21.617</td> <td> 0.000</td> <td>   -0.028</td> <td>   -0.024</td>\n",
       "</tr>\n",
       "<tr>\n",
       "  <th>var_77</th>  <td>   -0.0151</td> <td>    0.003</td> <td>   -5.959</td> <td> 0.000</td> <td>   -0.020</td> <td>   -0.010</td>\n",
       "</tr>\n",
       "<tr>\n",
       "  <th>var_78</th>  <td>    0.0796</td> <td>    0.005</td> <td>   16.393</td> <td> 0.000</td> <td>    0.070</td> <td>    0.089</td>\n",
       "</tr>\n",
       "<tr>\n",
       "  <th>var_79</th>  <td>    0.0143</td> <td>    0.007</td> <td>    1.940</td> <td> 0.052</td> <td>   -0.000</td> <td>    0.029</td>\n",
       "</tr>\n",
       "<tr>\n",
       "  <th>var_80</th>  <td>   -0.0249</td> <td>    0.001</td> <td>  -19.524</td> <td> 0.000</td> <td>   -0.027</td> <td>   -0.022</td>\n",
       "</tr>\n",
       "<tr>\n",
       "  <th>var_81</th>  <td>   -0.1126</td> <td>    0.004</td> <td>  -27.457</td> <td> 0.000</td> <td>   -0.121</td> <td>   -0.105</td>\n",
       "</tr>\n",
       "<tr>\n",
       "  <th>var_82</th>  <td>    0.0087</td> <td>    0.001</td> <td>    7.608</td> <td> 0.000</td> <td>    0.006</td> <td>    0.011</td>\n",
       "</tr>\n",
       "<tr>\n",
       "  <th>var_83</th>  <td>   -0.0080</td> <td>    0.001</td> <td>   -6.849</td> <td> 0.000</td> <td>   -0.010</td> <td>   -0.006</td>\n",
       "</tr>\n",
       "<tr>\n",
       "  <th>var_84</th>  <td>    0.0066</td> <td>    0.002</td> <td>    4.231</td> <td> 0.000</td> <td>    0.004</td> <td>    0.010</td>\n",
       "</tr>\n",
       "<tr>\n",
       "  <th>var_85</th>  <td>   -0.0168</td> <td>    0.002</td> <td>   -6.768</td> <td> 0.000</td> <td>   -0.022</td> <td>   -0.012</td>\n",
       "</tr>\n",
       "<tr>\n",
       "  <th>var_86</th>  <td>   -0.0166</td> <td>    0.001</td> <td>  -13.448</td> <td> 0.000</td> <td>   -0.019</td> <td>   -0.014</td>\n",
       "</tr>\n",
       "<tr>\n",
       "  <th>var_87</th>  <td>   -0.0203</td> <td>    0.002</td> <td>  -11.853</td> <td> 0.000</td> <td>   -0.024</td> <td>   -0.017</td>\n",
       "</tr>\n",
       "<tr>\n",
       "  <th>var_88</th>  <td>   -0.0255</td> <td>    0.004</td> <td>   -6.565</td> <td> 0.000</td> <td>   -0.033</td> <td>   -0.018</td>\n",
       "</tr>\n",
       "<tr>\n",
       "  <th>var_89</th>  <td>    0.0367</td> <td>    0.003</td> <td>   13.637</td> <td> 0.000</td> <td>    0.031</td> <td>    0.042</td>\n",
       "</tr>\n",
       "<tr>\n",
       "  <th>var_90</th>  <td>    0.0074</td> <td>    0.001</td> <td>   10.010</td> <td> 0.000</td> <td>    0.006</td> <td>    0.009</td>\n",
       "</tr>\n",
       "<tr>\n",
       "  <th>var_91</th>  <td>    0.9039</td> <td>    0.063</td> <td>   14.345</td> <td> 0.000</td> <td>    0.780</td> <td>    1.027</td>\n",
       "</tr>\n",
       "<tr>\n",
       "  <th>var_92</th>  <td>   -0.0349</td> <td>    0.002</td> <td>  -15.090</td> <td> 0.000</td> <td>   -0.039</td> <td>   -0.030</td>\n",
       "</tr>\n",
       "<tr>\n",
       "  <th>var_93</th>  <td>   -0.1985</td> <td>    0.018</td> <td>  -11.277</td> <td> 0.000</td> <td>   -0.233</td> <td>   -0.164</td>\n",
       "</tr>\n",
       "<tr>\n",
       "  <th>var_94</th>  <td>    0.0571</td> <td>    0.003</td> <td>   16.469</td> <td> 0.000</td> <td>    0.050</td> <td>    0.064</td>\n",
       "</tr>\n",
       "<tr>\n",
       "  <th>var_95</th>  <td>    0.2039</td> <td>    0.015</td> <td>   13.228</td> <td> 0.000</td> <td>    0.174</td> <td>    0.234</td>\n",
       "</tr>\n",
       "<tr>\n",
       "  <th>var_96</th>  <td>    0.0018</td> <td>    0.001</td> <td>    1.579</td> <td> 0.114</td> <td>   -0.000</td> <td>    0.004</td>\n",
       "</tr>\n",
       "<tr>\n",
       "  <th>var_97</th>  <td>    0.0041</td> <td>    0.001</td> <td>    5.328</td> <td> 0.000</td> <td>    0.003</td> <td>    0.006</td>\n",
       "</tr>\n",
       "<tr>\n",
       "  <th>var_98</th>  <td>   -0.0177</td> <td>    0.013</td> <td>   -1.314</td> <td> 0.189</td> <td>   -0.044</td> <td>    0.009</td>\n",
       "</tr>\n",
       "<tr>\n",
       "  <th>var_99</th>  <td>    0.1066</td> <td>    0.005</td> <td>   20.734</td> <td> 0.000</td> <td>    0.096</td> <td>    0.117</td>\n",
       "</tr>\n",
       "<tr>\n",
       "  <th>var_100</th> <td>    0.0005</td> <td>    0.001</td> <td>    0.483</td> <td> 0.629</td> <td>   -0.002</td> <td>    0.003</td>\n",
       "</tr>\n",
       "<tr>\n",
       "  <th>var_101</th> <td>   -0.0062</td> <td>    0.002</td> <td>   -3.174</td> <td> 0.002</td> <td>   -0.010</td> <td>   -0.002</td>\n",
       "</tr>\n",
       "<tr>\n",
       "  <th>var_102</th> <td>   -0.0062</td> <td>    0.001</td> <td>   -5.544</td> <td> 0.000</td> <td>   -0.008</td> <td>   -0.004</td>\n",
       "</tr>\n",
       "<tr>\n",
       "  <th>var_103</th> <td>   -0.0246</td> <td>    0.052</td> <td>   -0.472</td> <td> 0.637</td> <td>   -0.127</td> <td>    0.078</td>\n",
       "</tr>\n",
       "<tr>\n",
       "  <th>var_104</th> <td>   -0.0472</td> <td>    0.005</td> <td>   -9.590</td> <td> 0.000</td> <td>   -0.057</td> <td>   -0.038</td>\n",
       "</tr>\n",
       "<tr>\n",
       "  <th>var_105</th> <td>    0.0979</td> <td>    0.011</td> <td>    8.711</td> <td> 0.000</td> <td>    0.076</td> <td>    0.120</td>\n",
       "</tr>\n",
       "<tr>\n",
       "  <th>var_106</th> <td>    0.0551</td> <td>    0.005</td> <td>   10.846</td> <td> 0.000</td> <td>    0.045</td> <td>    0.065</td>\n",
       "</tr>\n",
       "<tr>\n",
       "  <th>var_107</th> <td>   -0.0194</td> <td>    0.001</td> <td>  -15.216</td> <td> 0.000</td> <td>   -0.022</td> <td>   -0.017</td>\n",
       "</tr>\n",
       "<tr>\n",
       "  <th>var_108</th> <td>   -0.7801</td> <td>    0.055</td> <td>  -14.081</td> <td> 0.000</td> <td>   -0.889</td> <td>   -0.672</td>\n",
       "</tr>\n",
       "<tr>\n",
       "  <th>var_109</th> <td>   -0.0369</td> <td>    0.002</td> <td>  -16.702</td> <td> 0.000</td> <td>   -0.041</td> <td>   -0.033</td>\n",
       "</tr>\n",
       "<tr>\n",
       "  <th>var_110</th> <td>    0.0528</td> <td>    0.002</td> <td>   21.196</td> <td> 0.000</td> <td>    0.048</td> <td>    0.058</td>\n",
       "</tr>\n",
       "<tr>\n",
       "  <th>var_111</th> <td>    0.0761</td> <td>    0.009</td> <td>    8.579</td> <td> 0.000</td> <td>    0.059</td> <td>    0.093</td>\n",
       "</tr>\n",
       "<tr>\n",
       "  <th>var_112</th> <td>    0.0484</td> <td>    0.006</td> <td>    7.912</td> <td> 0.000</td> <td>    0.036</td> <td>    0.060</td>\n",
       "</tr>\n",
       "<tr>\n",
       "  <th>var_113</th> <td>   -0.0105</td> <td>    0.002</td> <td>   -4.856</td> <td> 0.000</td> <td>   -0.015</td> <td>   -0.006</td>\n",
       "</tr>\n",
       "<tr>\n",
       "  <th>var_114</th> <td>   -0.0769</td> <td>    0.010</td> <td>   -7.866</td> <td> 0.000</td> <td>   -0.096</td> <td>   -0.058</td>\n",
       "</tr>\n",
       "<tr>\n",
       "  <th>var_115</th> <td>   -0.0594</td> <td>    0.004</td> <td>  -16.243</td> <td> 0.000</td> <td>   -0.067</td> <td>   -0.052</td>\n",
       "</tr>\n",
       "<tr>\n",
       "  <th>var_116</th> <td>   -0.0465</td> <td>    0.006</td> <td>   -7.965</td> <td> 0.000</td> <td>   -0.058</td> <td>   -0.035</td>\n",
       "</tr>\n",
       "<tr>\n",
       "  <th>var_117</th> <td>    0.0004</td> <td>    0.001</td> <td>    0.602</td> <td> 0.547</td> <td>   -0.001</td> <td>    0.002</td>\n",
       "</tr>\n",
       "<tr>\n",
       "  <th>var_118</th> <td>    0.0144</td> <td>    0.001</td> <td>   13.110</td> <td> 0.000</td> <td>    0.012</td> <td>    0.017</td>\n",
       "</tr>\n",
       "<tr>\n",
       "  <th>var_119</th> <td>    0.0215</td> <td>    0.002</td> <td>    9.334</td> <td> 0.000</td> <td>    0.017</td> <td>    0.026</td>\n",
       "</tr>\n",
       "<tr>\n",
       "  <th>var_120</th> <td>   -0.0028</td> <td>    0.001</td> <td>   -3.495</td> <td> 0.000</td> <td>   -0.004</td> <td>   -0.001</td>\n",
       "</tr>\n",
       "<tr>\n",
       "  <th>var_121</th> <td>   -0.0826</td> <td>    0.006</td> <td>  -14.553</td> <td> 0.000</td> <td>   -0.094</td> <td>   -0.071</td>\n",
       "</tr>\n",
       "<tr>\n",
       "  <th>var_122</th> <td>   -0.0262</td> <td>    0.002</td> <td>  -14.050</td> <td> 0.000</td> <td>   -0.030</td> <td>   -0.023</td>\n",
       "</tr>\n",
       "<tr>\n",
       "  <th>var_123</th> <td>   -0.0221</td> <td>    0.002</td> <td>  -14.219</td> <td> 0.000</td> <td>   -0.025</td> <td>   -0.019</td>\n",
       "</tr>\n",
       "<tr>\n",
       "  <th>var_124</th> <td>    0.0063</td> <td>    0.004</td> <td>    1.797</td> <td> 0.072</td> <td>   -0.001</td> <td>    0.013</td>\n",
       "</tr>\n",
       "<tr>\n",
       "  <th>var_125</th> <td>    0.3267</td> <td>    0.030</td> <td>   10.868</td> <td> 0.000</td> <td>    0.268</td> <td>    0.386</td>\n",
       "</tr>\n",
       "<tr>\n",
       "  <th>var_126</th> <td>    0.0098</td> <td>    0.012</td> <td>    0.785</td> <td> 0.433</td> <td>   -0.015</td> <td>    0.034</td>\n",
       "</tr>\n",
       "<tr>\n",
       "  <th>var_127</th> <td>   -0.0398</td> <td>    0.003</td> <td>  -12.993</td> <td> 0.000</td> <td>   -0.046</td> <td>   -0.034</td>\n",
       "</tr>\n",
       "<tr>\n",
       "  <th>var_128</th> <td>    0.0285</td> <td>    0.003</td> <td>    9.565</td> <td> 0.000</td> <td>    0.023</td> <td>    0.034</td>\n",
       "</tr>\n",
       "<tr>\n",
       "  <th>var_129</th> <td>   -0.0046</td> <td>    0.002</td> <td>   -1.981</td> <td> 0.048</td> <td>   -0.009</td> <td>-4.81e-05</td>\n",
       "</tr>\n",
       "<tr>\n",
       "  <th>var_130</th> <td>    0.1290</td> <td>    0.012</td> <td>   11.167</td> <td> 0.000</td> <td>    0.106</td> <td>    0.152</td>\n",
       "</tr>\n",
       "<tr>\n",
       "  <th>var_131</th> <td>   -0.2141</td> <td>    0.021</td> <td>  -10.150</td> <td> 0.000</td> <td>   -0.255</td> <td>   -0.173</td>\n",
       "</tr>\n",
       "<tr>\n",
       "  <th>var_132</th> <td>   -0.0585</td> <td>    0.007</td> <td>   -8.840</td> <td> 0.000</td> <td>   -0.071</td> <td>   -0.046</td>\n",
       "</tr>\n",
       "<tr>\n",
       "  <th>var_133</th> <td>    0.4605</td> <td>    0.025</td> <td>   18.129</td> <td> 0.000</td> <td>    0.411</td> <td>    0.510</td>\n",
       "</tr>\n",
       "<tr>\n",
       "  <th>var_134</th> <td>    0.0097</td> <td>    0.002</td> <td>    6.189</td> <td> 0.000</td> <td>    0.007</td> <td>    0.013</td>\n",
       "</tr>\n",
       "<tr>\n",
       "  <th>var_135</th> <td>    0.0098</td> <td>    0.001</td> <td>    7.801</td> <td> 0.000</td> <td>    0.007</td> <td>    0.012</td>\n",
       "</tr>\n",
       "<tr>\n",
       "  <th>var_136</th> <td>   -0.0017</td> <td>    0.001</td> <td>   -1.815</td> <td> 0.069</td> <td>   -0.004</td> <td>    0.000</td>\n",
       "</tr>\n",
       "<tr>\n",
       "  <th>var_137</th> <td>    0.0113</td> <td>    0.001</td> <td>   10.343</td> <td> 0.000</td> <td>    0.009</td> <td>    0.013</td>\n",
       "</tr>\n",
       "<tr>\n",
       "  <th>var_138</th> <td>    0.0111</td> <td>    0.002</td> <td>    5.224</td> <td> 0.000</td> <td>    0.007</td> <td>    0.015</td>\n",
       "</tr>\n",
       "<tr>\n",
       "  <th>var_139</th> <td>   -0.0300</td> <td>    0.001</td> <td>  -24.131</td> <td> 0.000</td> <td>   -0.032</td> <td>   -0.028</td>\n",
       "</tr>\n",
       "<tr>\n",
       "  <th>var_140</th> <td>    0.0126</td> <td>    0.002</td> <td>    6.385</td> <td> 0.000</td> <td>    0.009</td> <td>    0.017</td>\n",
       "</tr>\n",
       "<tr>\n",
       "  <th>var_141</th> <td>   -0.0146</td> <td>    0.001</td> <td>  -10.188</td> <td> 0.000</td> <td>   -0.017</td> <td>   -0.012</td>\n",
       "</tr>\n",
       "<tr>\n",
       "  <th>var_142</th> <td>   -0.0114</td> <td>    0.002</td> <td>   -6.728</td> <td> 0.000</td> <td>   -0.015</td> <td>   -0.008</td>\n",
       "</tr>\n",
       "<tr>\n",
       "  <th>var_143</th> <td>   -0.0152</td> <td>    0.003</td> <td>   -4.641</td> <td> 0.000</td> <td>   -0.022</td> <td>   -0.009</td>\n",
       "</tr>\n",
       "<tr>\n",
       "  <th>var_144</th> <td>    0.0761</td> <td>    0.010</td> <td>    7.274</td> <td> 0.000</td> <td>    0.056</td> <td>    0.097</td>\n",
       "</tr>\n",
       "<tr>\n",
       "  <th>var_145</th> <td>    0.0259</td> <td>    0.002</td> <td>   10.455</td> <td> 0.000</td> <td>    0.021</td> <td>    0.031</td>\n",
       "</tr>\n",
       "<tr>\n",
       "  <th>var_146</th> <td>   -0.0820</td> <td>    0.004</td> <td>  -21.746</td> <td> 0.000</td> <td>   -0.089</td> <td>   -0.075</td>\n",
       "</tr>\n",
       "<tr>\n",
       "  <th>var_147</th> <td>    0.0177</td> <td>    0.001</td> <td>   13.642</td> <td> 0.000</td> <td>    0.015</td> <td>    0.020</td>\n",
       "</tr>\n",
       "<tr>\n",
       "  <th>var_148</th> <td>   -0.8519</td> <td>    0.048</td> <td>  -17.771</td> <td> 0.000</td> <td>   -0.946</td> <td>   -0.758</td>\n",
       "</tr>\n",
       "<tr>\n",
       "  <th>var_149</th> <td>   -0.0142</td> <td>    0.001</td> <td>  -15.291</td> <td> 0.000</td> <td>   -0.016</td> <td>   -0.012</td>\n",
       "</tr>\n",
       "<tr>\n",
       "  <th>var_150</th> <td>   -0.0360</td> <td>    0.004</td> <td>   -9.200</td> <td> 0.000</td> <td>   -0.044</td> <td>   -0.028</td>\n",
       "</tr>\n",
       "<tr>\n",
       "  <th>var_151</th> <td>    0.0230</td> <td>    0.002</td> <td>    9.506</td> <td> 0.000</td> <td>    0.018</td> <td>    0.028</td>\n",
       "</tr>\n",
       "<tr>\n",
       "  <th>var_152</th> <td>   -0.0133</td> <td>    0.003</td> <td>   -4.155</td> <td> 0.000</td> <td>   -0.020</td> <td>   -0.007</td>\n",
       "</tr>\n",
       "<tr>\n",
       "  <th>var_153</th> <td>   -0.0058</td> <td>    0.005</td> <td>   -1.201</td> <td> 0.230</td> <td>   -0.015</td> <td>    0.004</td>\n",
       "</tr>\n",
       "<tr>\n",
       "  <th>var_154</th> <td>   -0.0286</td> <td>    0.002</td> <td>  -14.753</td> <td> 0.000</td> <td>   -0.032</td> <td>   -0.025</td>\n",
       "</tr>\n",
       "<tr>\n",
       "  <th>var_155</th> <td>    0.0222</td> <td>    0.002</td> <td>   13.365</td> <td> 0.000</td> <td>    0.019</td> <td>    0.026</td>\n",
       "</tr>\n",
       "<tr>\n",
       "  <th>var_156</th> <td>   -0.0676</td> <td>    0.010</td> <td>   -6.676</td> <td> 0.000</td> <td>   -0.087</td> <td>   -0.048</td>\n",
       "</tr>\n",
       "<tr>\n",
       "  <th>var_157</th> <td>    0.0176</td> <td>    0.002</td> <td>   10.235</td> <td> 0.000</td> <td>    0.014</td> <td>    0.021</td>\n",
       "</tr>\n",
       "<tr>\n",
       "  <th>var_158</th> <td>   -0.0002</td> <td>    0.001</td> <td>   -0.181</td> <td> 0.856</td> <td>   -0.003</td> <td>    0.002</td>\n",
       "</tr>\n",
       "<tr>\n",
       "  <th>var_159</th> <td>    0.0125</td> <td>    0.002</td> <td>    5.342</td> <td> 0.000</td> <td>    0.008</td> <td>    0.017</td>\n",
       "</tr>\n",
       "<tr>\n",
       "  <th>var_160</th> <td>   -0.0014</td> <td>    0.001</td> <td>   -1.589</td> <td> 0.112</td> <td>   -0.003</td> <td>    0.000</td>\n",
       "</tr>\n",
       "<tr>\n",
       "  <th>var_161</th> <td>    0.0795</td> <td>    0.044</td> <td>    1.796</td> <td> 0.072</td> <td>   -0.007</td> <td>    0.166</td>\n",
       "</tr>\n",
       "<tr>\n",
       "  <th>var_162</th> <td>    0.0755</td> <td>    0.007</td> <td>   11.122</td> <td> 0.000</td> <td>    0.062</td> <td>    0.089</td>\n",
       "</tr>\n",
       "<tr>\n",
       "  <th>var_163</th> <td>    0.0188</td> <td>    0.002</td> <td>   10.356</td> <td> 0.000</td> <td>    0.015</td> <td>    0.022</td>\n",
       "</tr>\n",
       "<tr>\n",
       "  <th>var_164</th> <td>    0.0236</td> <td>    0.002</td> <td>   13.310</td> <td> 0.000</td> <td>    0.020</td> <td>    0.027</td>\n",
       "</tr>\n",
       "<tr>\n",
       "  <th>var_165</th> <td>   -0.0355</td> <td>    0.002</td> <td>  -18.541</td> <td> 0.000</td> <td>   -0.039</td> <td>   -0.032</td>\n",
       "</tr>\n",
       "<tr>\n",
       "  <th>var_166</th> <td>   -0.4669</td> <td>    0.026</td> <td>  -18.003</td> <td> 0.000</td> <td>   -0.518</td> <td>   -0.416</td>\n",
       "</tr>\n",
       "<tr>\n",
       "  <th>var_167</th> <td>    0.0130</td> <td>    0.001</td> <td>   10.502</td> <td> 0.000</td> <td>    0.011</td> <td>    0.015</td>\n",
       "</tr>\n",
       "<tr>\n",
       "  <th>var_168</th> <td>    0.0123</td> <td>    0.003</td> <td>    3.965</td> <td> 0.000</td> <td>    0.006</td> <td>    0.018</td>\n",
       "</tr>\n",
       "<tr>\n",
       "  <th>var_169</th> <td>   -0.4433</td> <td>    0.026</td> <td>  -16.929</td> <td> 0.000</td> <td>   -0.495</td> <td>   -0.392</td>\n",
       "</tr>\n",
       "<tr>\n",
       "  <th>var_170</th> <td>    0.0364</td> <td>    0.002</td> <td>   16.848</td> <td> 0.000</td> <td>    0.032</td> <td>    0.041</td>\n",
       "</tr>\n",
       "<tr>\n",
       "  <th>var_171</th> <td>    0.0091</td> <td>    0.002</td> <td>    5.065</td> <td> 0.000</td> <td>    0.006</td> <td>    0.013</td>\n",
       "</tr>\n",
       "<tr>\n",
       "  <th>var_172</th> <td>   -0.0153</td> <td>    0.001</td> <td>  -13.772</td> <td> 0.000</td> <td>   -0.017</td> <td>   -0.013</td>\n",
       "</tr>\n",
       "<tr>\n",
       "  <th>var_173</th> <td>    0.0239</td> <td>    0.002</td> <td>   14.727</td> <td> 0.000</td> <td>    0.021</td> <td>    0.027</td>\n",
       "</tr>\n",
       "<tr>\n",
       "  <th>var_174</th> <td>   -0.0284</td> <td>    0.001</td> <td>  -21.223</td> <td> 0.000</td> <td>   -0.031</td> <td>   -0.026</td>\n",
       "</tr>\n",
       "<tr>\n",
       "  <th>var_175</th> <td>    0.0261</td> <td>    0.003</td> <td>    7.856</td> <td> 0.000</td> <td>    0.020</td> <td>    0.033</td>\n",
       "</tr>\n",
       "<tr>\n",
       "  <th>var_176</th> <td>    0.0038</td> <td>    0.001</td> <td>    2.979</td> <td> 0.003</td> <td>    0.001</td> <td>    0.006</td>\n",
       "</tr>\n",
       "<tr>\n",
       "  <th>var_177</th> <td>   -0.0476</td> <td>    0.004</td> <td>  -12.931</td> <td> 0.000</td> <td>   -0.055</td> <td>   -0.040</td>\n",
       "</tr>\n",
       "<tr>\n",
       "  <th>var_178</th> <td>   -0.0080</td> <td>    0.001</td> <td>   -7.144</td> <td> 0.000</td> <td>   -0.010</td> <td>   -0.006</td>\n",
       "</tr>\n",
       "<tr>\n",
       "  <th>var_179</th> <td>    0.0618</td> <td>    0.003</td> <td>   18.298</td> <td> 0.000</td> <td>    0.055</td> <td>    0.068</td>\n",
       "</tr>\n",
       "<tr>\n",
       "  <th>var_180</th> <td>    0.0191</td> <td>    0.002</td> <td>   10.428</td> <td> 0.000</td> <td>    0.015</td> <td>    0.023</td>\n",
       "</tr>\n",
       "<tr>\n",
       "  <th>var_181</th> <td>    0.0339</td> <td>    0.007</td> <td>    4.827</td> <td> 0.000</td> <td>    0.020</td> <td>    0.048</td>\n",
       "</tr>\n",
       "<tr>\n",
       "  <th>var_182</th> <td>   -0.0038</td> <td>    0.001</td> <td>   -3.487</td> <td> 0.000</td> <td>   -0.006</td> <td>   -0.002</td>\n",
       "</tr>\n",
       "<tr>\n",
       "  <th>var_183</th> <td>   -0.0040</td> <td>    0.002</td> <td>   -1.831</td> <td> 0.067</td> <td>   -0.008</td> <td>    0.000</td>\n",
       "</tr>\n",
       "<tr>\n",
       "  <th>var_184</th> <td>    0.0173</td> <td>    0.001</td> <td>   16.746</td> <td> 0.000</td> <td>    0.015</td> <td>    0.019</td>\n",
       "</tr>\n",
       "<tr>\n",
       "  <th>var_185</th> <td>    0.0002</td> <td>    0.002</td> <td>    0.104</td> <td> 0.917</td> <td>   -0.004</td> <td>    0.004</td>\n",
       "</tr>\n",
       "<tr>\n",
       "  <th>var_186</th> <td>   -0.0312</td> <td>    0.003</td> <td>  -10.311</td> <td> 0.000</td> <td>   -0.037</td> <td>   -0.025</td>\n",
       "</tr>\n",
       "<tr>\n",
       "  <th>var_187</th> <td>    0.0043</td> <td>    0.001</td> <td>    5.084</td> <td> 0.000</td> <td>    0.003</td> <td>    0.006</td>\n",
       "</tr>\n",
       "<tr>\n",
       "  <th>var_188</th> <td>   -0.0296</td> <td>    0.002</td> <td>  -12.096</td> <td> 0.000</td> <td>   -0.034</td> <td>   -0.025</td>\n",
       "</tr>\n",
       "<tr>\n",
       "  <th>var_189</th> <td>    0.0211</td> <td>    0.010</td> <td>    2.129</td> <td> 0.033</td> <td>    0.002</td> <td>    0.040</td>\n",
       "</tr>\n",
       "<tr>\n",
       "  <th>var_190</th> <td>    0.0406</td> <td>    0.002</td> <td>   19.193</td> <td> 0.000</td> <td>    0.036</td> <td>    0.045</td>\n",
       "</tr>\n",
       "<tr>\n",
       "  <th>var_191</th> <td>    0.0511</td> <td>    0.003</td> <td>   16.237</td> <td> 0.000</td> <td>    0.045</td> <td>    0.057</td>\n",
       "</tr>\n",
       "<tr>\n",
       "  <th>var_192</th> <td>   -0.0959</td> <td>    0.007</td> <td>  -14.602</td> <td> 0.000</td> <td>   -0.109</td> <td>   -0.083</td>\n",
       "</tr>\n",
       "<tr>\n",
       "  <th>var_193</th> <td>   -0.0142</td> <td>    0.002</td> <td>   -5.856</td> <td> 0.000</td> <td>   -0.019</td> <td>   -0.009</td>\n",
       "</tr>\n",
       "<tr>\n",
       "  <th>var_194</th> <td>   -0.0238</td> <td>    0.003</td> <td>   -7.719</td> <td> 0.000</td> <td>   -0.030</td> <td>   -0.018</td>\n",
       "</tr>\n",
       "<tr>\n",
       "  <th>var_195</th> <td>    0.0662</td> <td>    0.007</td> <td>    9.828</td> <td> 0.000</td> <td>    0.053</td> <td>    0.079</td>\n",
       "</tr>\n",
       "<tr>\n",
       "  <th>var_196</th> <td>    0.0146</td> <td>    0.002</td> <td>    8.229</td> <td> 0.000</td> <td>    0.011</td> <td>    0.018</td>\n",
       "</tr>\n",
       "<tr>\n",
       "  <th>var_197</th> <td>   -0.1413</td> <td>    0.010</td> <td>  -13.503</td> <td> 0.000</td> <td>   -0.162</td> <td>   -0.121</td>\n",
       "</tr>\n",
       "<tr>\n",
       "  <th>var_198</th> <td>   -0.0576</td> <td>    0.003</td> <td>  -18.241</td> <td> 0.000</td> <td>   -0.064</td> <td>   -0.051</td>\n",
       "</tr>\n",
       "</table>"
      ],
      "text/plain": [
       "<class 'statsmodels.iolib.summary.Summary'>\n",
       "\"\"\"\n",
       "                           Logit Regression Results                           \n",
       "==============================================================================\n",
       "Dep. Variable:                 target   No. Observations:               159951\n",
       "Model:                          Logit   Df Residuals:                   159752\n",
       "Method:                           MLE   Df Model:                          198\n",
       "Date:                Wed, 06 Nov 2019   Pseudo R-squ.:                  0.2898\n",
       "Time:                        19:18:09   Log-Likelihood:                -37068.\n",
       "converged:                       True   LL-Null:                       -52197.\n",
       "Covariance Type:            nonrobust   LLR p-value:                     0.000\n",
       "==============================================================================\n",
       "                 coef    std err          z      P>|z|      [0.025      0.975]\n",
       "------------------------------------------------------------------------------\n",
       "var_0          0.0548      0.003     17.499      0.000       0.049       0.061\n",
       "var_1          0.0389      0.002     16.340      0.000       0.034       0.044\n",
       "var_2          0.0688      0.004     19.098      0.000       0.062       0.076\n",
       "var_3          0.0176      0.005      3.712      0.000       0.008       0.027\n",
       "var_4          0.0213      0.006      3.588      0.000       0.010       0.033\n",
       "var_5          0.0138      0.001     11.264      0.000       0.011       0.016\n",
       "var_6          0.2596      0.011     23.552      0.000       0.238       0.281\n",
       "var_7         -0.0032      0.003     -1.127      0.260      -0.009       0.002\n",
       "var_8          0.0155      0.003      5.339      0.000       0.010       0.021\n",
       "var_9         -0.1152      0.008    -14.850      0.000      -0.130      -0.100\n",
       "var_10        -0.0011      0.002     -0.621      0.534      -0.005       0.002\n",
       "var_11         0.0131      0.002      8.100      0.000       0.010       0.016\n",
       "var_12        -1.1261      0.050    -22.624      0.000      -1.224      -1.029\n",
       "var_13        -0.0397      0.002    -19.234      0.000      -0.044      -0.036\n",
       "var_14        -0.0113      0.004     -2.619      0.009      -0.020      -0.003\n",
       "var_15         0.1322      0.023      5.645      0.000       0.086       0.178\n",
       "var_16         0.0064      0.004      1.701      0.089      -0.001       0.014\n",
       "var_17         0.0001      0.001      0.090      0.929      -0.003       0.003\n",
       "var_18         0.0170      0.001     13.895      0.000       0.015       0.019\n",
       "var_19         0.0045      0.001      3.696      0.000       0.002       0.007\n",
       "var_20        -0.0108      0.002     -6.589      0.000      -0.014      -0.008\n",
       "var_21        -0.0234      0.001    -19.815      0.000      -0.026      -0.021\n",
       "var_22         0.0708      0.003     21.109      0.000       0.064       0.077\n",
       "var_23        -0.1597      0.018     -8.685      0.000      -0.196      -0.124\n",
       "var_24         0.0246      0.003      9.668      0.000       0.020       0.030\n",
       "var_25         0.1475      0.034      4.389      0.000       0.082       0.213\n",
       "var_26         0.0331      0.002     20.648      0.000       0.030       0.036\n",
       "var_27        -0.0053      0.006     -0.828      0.408      -0.018       0.007\n",
       "var_28        -0.1000      0.012     -8.102      0.000      -0.124      -0.076\n",
       "var_29         0.0111      0.004      2.995      0.003       0.004       0.018\n",
       "var_30        -0.0004      0.001     -0.301      0.763      -0.003       0.002\n",
       "var_31        -0.0426      0.004     -9.497      0.000      -0.051      -0.034\n",
       "var_32         0.0377      0.004     10.111      0.000       0.030       0.045\n",
       "var_33        -0.0360      0.002    -16.039      0.000      -0.040      -0.032\n",
       "var_34        -0.3109      0.018    -17.439      0.000      -0.346      -0.276\n",
       "var_35         0.0246      0.002     13.199      0.000       0.021       0.028\n",
       "var_36        -0.0432      0.003    -13.987      0.000      -0.049      -0.037\n",
       "var_37         0.0142      0.004      3.317      0.001       0.006       0.023\n",
       "var_38         0.0012      0.002      0.533      0.594      -0.003       0.006\n",
       "var_39        -0.0027      0.002     -1.139      0.255      -0.007       0.002\n",
       "var_40         0.0198      0.001     17.065      0.000       0.018       0.022\n",
       "var_41        -0.0001      0.002     -0.086      0.931      -0.003       0.003\n",
       "var_42        -0.0398      0.014     -2.874      0.004      -0.067      -0.013\n",
       "var_43        -0.2750      0.031     -8.834      0.000      -0.336      -0.214\n",
       "var_44        -0.0281      0.002    -17.496      0.000      -0.031      -0.025\n",
       "var_45        -0.0034      0.000     -7.488      0.000      -0.004      -0.002\n",
       "var_46         0.0070      0.003      2.060      0.039       0.000       0.014\n",
       "var_47         0.0026      0.001      2.798      0.005       0.001       0.004\n",
       "var_48         0.0097      0.001     11.352      0.000       0.008       0.011\n",
       "var_49         0.0127      0.001     10.327      0.000       0.010       0.015\n",
       "var_50        -0.0604      0.014     -4.332      0.000      -0.088      -0.033\n",
       "var_51         0.0094      0.001      7.986      0.000       0.007       0.012\n",
       "var_52         0.0176      0.002      9.094      0.000       0.014       0.021\n",
       "var_53         0.2819      0.013     22.467      0.000       0.257       0.307\n",
       "var_54        -0.0066      0.001     -5.747      0.000      -0.009      -0.004\n",
       "var_55         0.0111      0.002      6.575      0.000       0.008       0.014\n",
       "var_56        -0.0307      0.003    -11.351      0.000      -0.036      -0.025\n",
       "var_57        -0.0666      0.012     -5.481      0.000      -0.090      -0.043\n",
       "var_58        -0.0179      0.002     -7.983      0.000      -0.022      -0.014\n",
       "var_59        -0.0381      0.011     -3.367      0.001      -0.060      -0.016\n",
       "var_60         0.0057      0.002      2.502      0.012       0.001       0.010\n",
       "var_61         0.0023      0.001      2.702      0.007       0.001       0.004\n",
       "var_62         0.0270      0.005      5.693      0.000       0.018       0.036\n",
       "var_63        -0.0154      0.003     -4.971      0.000      -0.021      -0.009\n",
       "var_64        -0.0296      0.006     -4.565      0.000      -0.042      -0.017\n",
       "var_65         0.0067      0.003      2.603      0.009       0.002       0.012\n",
       "var_66         0.0607      0.009      7.070      0.000       0.044       0.078\n",
       "var_67         0.0191      0.001     14.569      0.000       0.017       0.022\n",
       "var_68         6.2190      0.303     20.520      0.000       5.625       6.813\n",
       "var_69         0.0035      0.002      1.447      0.148      -0.001       0.008\n",
       "var_70         0.0069      0.001      8.577      0.000       0.005       0.009\n",
       "var_71         0.3869      0.036     10.671      0.000       0.316       0.458\n",
       "var_72        -0.0127      0.002     -5.171      0.000      -0.017      -0.008\n",
       "var_73        -0.0028      0.001     -2.127      0.033      -0.005      -0.000\n",
       "var_74         0.0048      0.001      7.043      0.000       0.003       0.006\n",
       "var_75        -0.0203      0.002    -12.758      0.000      -0.023      -0.017\n",
       "var_76        -0.0260      0.001    -21.617      0.000      -0.028      -0.024\n",
       "var_77        -0.0151      0.003     -5.959      0.000      -0.020      -0.010\n",
       "var_78         0.0796      0.005     16.393      0.000       0.070       0.089\n",
       "var_79         0.0143      0.007      1.940      0.052      -0.000       0.029\n",
       "var_80        -0.0249      0.001    -19.524      0.000      -0.027      -0.022\n",
       "var_81        -0.1126      0.004    -27.457      0.000      -0.121      -0.105\n",
       "var_82         0.0087      0.001      7.608      0.000       0.006       0.011\n",
       "var_83        -0.0080      0.001     -6.849      0.000      -0.010      -0.006\n",
       "var_84         0.0066      0.002      4.231      0.000       0.004       0.010\n",
       "var_85        -0.0168      0.002     -6.768      0.000      -0.022      -0.012\n",
       "var_86        -0.0166      0.001    -13.448      0.000      -0.019      -0.014\n",
       "var_87        -0.0203      0.002    -11.853      0.000      -0.024      -0.017\n",
       "var_88        -0.0255      0.004     -6.565      0.000      -0.033      -0.018\n",
       "var_89         0.0367      0.003     13.637      0.000       0.031       0.042\n",
       "var_90         0.0074      0.001     10.010      0.000       0.006       0.009\n",
       "var_91         0.9039      0.063     14.345      0.000       0.780       1.027\n",
       "var_92        -0.0349      0.002    -15.090      0.000      -0.039      -0.030\n",
       "var_93        -0.1985      0.018    -11.277      0.000      -0.233      -0.164\n",
       "var_94         0.0571      0.003     16.469      0.000       0.050       0.064\n",
       "var_95         0.2039      0.015     13.228      0.000       0.174       0.234\n",
       "var_96         0.0018      0.001      1.579      0.114      -0.000       0.004\n",
       "var_97         0.0041      0.001      5.328      0.000       0.003       0.006\n",
       "var_98        -0.0177      0.013     -1.314      0.189      -0.044       0.009\n",
       "var_99         0.1066      0.005     20.734      0.000       0.096       0.117\n",
       "var_100        0.0005      0.001      0.483      0.629      -0.002       0.003\n",
       "var_101       -0.0062      0.002     -3.174      0.002      -0.010      -0.002\n",
       "var_102       -0.0062      0.001     -5.544      0.000      -0.008      -0.004\n",
       "var_103       -0.0246      0.052     -0.472      0.637      -0.127       0.078\n",
       "var_104       -0.0472      0.005     -9.590      0.000      -0.057      -0.038\n",
       "var_105        0.0979      0.011      8.711      0.000       0.076       0.120\n",
       "var_106        0.0551      0.005     10.846      0.000       0.045       0.065\n",
       "var_107       -0.0194      0.001    -15.216      0.000      -0.022      -0.017\n",
       "var_108       -0.7801      0.055    -14.081      0.000      -0.889      -0.672\n",
       "var_109       -0.0369      0.002    -16.702      0.000      -0.041      -0.033\n",
       "var_110        0.0528      0.002     21.196      0.000       0.048       0.058\n",
       "var_111        0.0761      0.009      8.579      0.000       0.059       0.093\n",
       "var_112        0.0484      0.006      7.912      0.000       0.036       0.060\n",
       "var_113       -0.0105      0.002     -4.856      0.000      -0.015      -0.006\n",
       "var_114       -0.0769      0.010     -7.866      0.000      -0.096      -0.058\n",
       "var_115       -0.0594      0.004    -16.243      0.000      -0.067      -0.052\n",
       "var_116       -0.0465      0.006     -7.965      0.000      -0.058      -0.035\n",
       "var_117        0.0004      0.001      0.602      0.547      -0.001       0.002\n",
       "var_118        0.0144      0.001     13.110      0.000       0.012       0.017\n",
       "var_119        0.0215      0.002      9.334      0.000       0.017       0.026\n",
       "var_120       -0.0028      0.001     -3.495      0.000      -0.004      -0.001\n",
       "var_121       -0.0826      0.006    -14.553      0.000      -0.094      -0.071\n",
       "var_122       -0.0262      0.002    -14.050      0.000      -0.030      -0.023\n",
       "var_123       -0.0221      0.002    -14.219      0.000      -0.025      -0.019\n",
       "var_124        0.0063      0.004      1.797      0.072      -0.001       0.013\n",
       "var_125        0.3267      0.030     10.868      0.000       0.268       0.386\n",
       "var_126        0.0098      0.012      0.785      0.433      -0.015       0.034\n",
       "var_127       -0.0398      0.003    -12.993      0.000      -0.046      -0.034\n",
       "var_128        0.0285      0.003      9.565      0.000       0.023       0.034\n",
       "var_129       -0.0046      0.002     -1.981      0.048      -0.009   -4.81e-05\n",
       "var_130        0.1290      0.012     11.167      0.000       0.106       0.152\n",
       "var_131       -0.2141      0.021    -10.150      0.000      -0.255      -0.173\n",
       "var_132       -0.0585      0.007     -8.840      0.000      -0.071      -0.046\n",
       "var_133        0.4605      0.025     18.129      0.000       0.411       0.510\n",
       "var_134        0.0097      0.002      6.189      0.000       0.007       0.013\n",
       "var_135        0.0098      0.001      7.801      0.000       0.007       0.012\n",
       "var_136       -0.0017      0.001     -1.815      0.069      -0.004       0.000\n",
       "var_137        0.0113      0.001     10.343      0.000       0.009       0.013\n",
       "var_138        0.0111      0.002      5.224      0.000       0.007       0.015\n",
       "var_139       -0.0300      0.001    -24.131      0.000      -0.032      -0.028\n",
       "var_140        0.0126      0.002      6.385      0.000       0.009       0.017\n",
       "var_141       -0.0146      0.001    -10.188      0.000      -0.017      -0.012\n",
       "var_142       -0.0114      0.002     -6.728      0.000      -0.015      -0.008\n",
       "var_143       -0.0152      0.003     -4.641      0.000      -0.022      -0.009\n",
       "var_144        0.0761      0.010      7.274      0.000       0.056       0.097\n",
       "var_145        0.0259      0.002     10.455      0.000       0.021       0.031\n",
       "var_146       -0.0820      0.004    -21.746      0.000      -0.089      -0.075\n",
       "var_147        0.0177      0.001     13.642      0.000       0.015       0.020\n",
       "var_148       -0.8519      0.048    -17.771      0.000      -0.946      -0.758\n",
       "var_149       -0.0142      0.001    -15.291      0.000      -0.016      -0.012\n",
       "var_150       -0.0360      0.004     -9.200      0.000      -0.044      -0.028\n",
       "var_151        0.0230      0.002      9.506      0.000       0.018       0.028\n",
       "var_152       -0.0133      0.003     -4.155      0.000      -0.020      -0.007\n",
       "var_153       -0.0058      0.005     -1.201      0.230      -0.015       0.004\n",
       "var_154       -0.0286      0.002    -14.753      0.000      -0.032      -0.025\n",
       "var_155        0.0222      0.002     13.365      0.000       0.019       0.026\n",
       "var_156       -0.0676      0.010     -6.676      0.000      -0.087      -0.048\n",
       "var_157        0.0176      0.002     10.235      0.000       0.014       0.021\n",
       "var_158       -0.0002      0.001     -0.181      0.856      -0.003       0.002\n",
       "var_159        0.0125      0.002      5.342      0.000       0.008       0.017\n",
       "var_160       -0.0014      0.001     -1.589      0.112      -0.003       0.000\n",
       "var_161        0.0795      0.044      1.796      0.072      -0.007       0.166\n",
       "var_162        0.0755      0.007     11.122      0.000       0.062       0.089\n",
       "var_163        0.0188      0.002     10.356      0.000       0.015       0.022\n",
       "var_164        0.0236      0.002     13.310      0.000       0.020       0.027\n",
       "var_165       -0.0355      0.002    -18.541      0.000      -0.039      -0.032\n",
       "var_166       -0.4669      0.026    -18.003      0.000      -0.518      -0.416\n",
       "var_167        0.0130      0.001     10.502      0.000       0.011       0.015\n",
       "var_168        0.0123      0.003      3.965      0.000       0.006       0.018\n",
       "var_169       -0.4433      0.026    -16.929      0.000      -0.495      -0.392\n",
       "var_170        0.0364      0.002     16.848      0.000       0.032       0.041\n",
       "var_171        0.0091      0.002      5.065      0.000       0.006       0.013\n",
       "var_172       -0.0153      0.001    -13.772      0.000      -0.017      -0.013\n",
       "var_173        0.0239      0.002     14.727      0.000       0.021       0.027\n",
       "var_174       -0.0284      0.001    -21.223      0.000      -0.031      -0.026\n",
       "var_175        0.0261      0.003      7.856      0.000       0.020       0.033\n",
       "var_176        0.0038      0.001      2.979      0.003       0.001       0.006\n",
       "var_177       -0.0476      0.004    -12.931      0.000      -0.055      -0.040\n",
       "var_178       -0.0080      0.001     -7.144      0.000      -0.010      -0.006\n",
       "var_179        0.0618      0.003     18.298      0.000       0.055       0.068\n",
       "var_180        0.0191      0.002     10.428      0.000       0.015       0.023\n",
       "var_181        0.0339      0.007      4.827      0.000       0.020       0.048\n",
       "var_182       -0.0038      0.001     -3.487      0.000      -0.006      -0.002\n",
       "var_183       -0.0040      0.002     -1.831      0.067      -0.008       0.000\n",
       "var_184        0.0173      0.001     16.746      0.000       0.015       0.019\n",
       "var_185        0.0002      0.002      0.104      0.917      -0.004       0.004\n",
       "var_186       -0.0312      0.003    -10.311      0.000      -0.037      -0.025\n",
       "var_187        0.0043      0.001      5.084      0.000       0.003       0.006\n",
       "var_188       -0.0296      0.002    -12.096      0.000      -0.034      -0.025\n",
       "var_189        0.0211      0.010      2.129      0.033       0.002       0.040\n",
       "var_190        0.0406      0.002     19.193      0.000       0.036       0.045\n",
       "var_191        0.0511      0.003     16.237      0.000       0.045       0.057\n",
       "var_192       -0.0959      0.007    -14.602      0.000      -0.109      -0.083\n",
       "var_193       -0.0142      0.002     -5.856      0.000      -0.019      -0.009\n",
       "var_194       -0.0238      0.003     -7.719      0.000      -0.030      -0.018\n",
       "var_195        0.0662      0.007      9.828      0.000       0.053       0.079\n",
       "var_196        0.0146      0.002      8.229      0.000       0.011       0.018\n",
       "var_197       -0.1413      0.010    -13.503      0.000      -0.162      -0.121\n",
       "var_198       -0.0576      0.003    -18.241      0.000      -0.064      -0.051\n",
       "==============================================================================\n",
       "\"\"\""
      ]
     },
     "execution_count": 40,
     "metadata": {},
     "output_type": "execute_result"
    }
   ],
   "source": [
    "model2.summary()"
   ]
  },
  {
   "cell_type": "code",
   "execution_count": 41,
   "metadata": {},
   "outputs": [],
   "source": [
    "model2_pred = model2.predict(test_data[train_cols])"
   ]
  },
  {
   "cell_type": "code",
   "execution_count": 42,
   "metadata": {},
   "outputs": [
    {
     "name": "stderr",
     "output_type": "stream",
     "text": [
      "C:\\Users\\michael\\Anaconda3\\lib\\site-packages\\ipykernel_launcher.py:1: SettingWithCopyWarning: \n",
      "A value is trying to be set on a copy of a slice from a DataFrame.\n",
      "Try using .loc[row_indexer,col_indexer] = value instead\n",
      "\n",
      "See the caveats in the documentation: http://pandas.pydata.org/pandas-docs/stable/user_guide/indexing.html#returning-a-view-versus-a-copy\n",
      "  \"\"\"Entry point for launching an IPython kernel.\n",
      "C:\\Users\\michael\\Anaconda3\\lib\\site-packages\\pandas\\core\\indexing.py:494: SettingWithCopyWarning: \n",
      "A value is trying to be set on a copy of a slice from a DataFrame.\n",
      "Try using .loc[row_indexer,col_indexer] = value instead\n",
      "\n",
      "See the caveats in the documentation: http://pandas.pydata.org/pandas-docs/stable/user_guide/indexing.html#returning-a-view-versus-a-copy\n",
      "  self.obj[item] = s\n"
     ]
    }
   ],
   "source": [
    "test_data['Actual_values'] = 1\n",
    "test_data.loc[model2_pred<0.5, 'Actual_values'] = 0"
   ]
  },
  {
   "cell_type": "code",
   "execution_count": 43,
   "metadata": {},
   "outputs": [],
   "source": [
    "con_mat2 = pd.crosstab(test_data['target'], test_data['Actual_values'])"
   ]
  },
  {
   "cell_type": "code",
   "execution_count": 44,
   "metadata": {},
   "outputs": [
    {
     "data": {
      "text/html": [
       "<div>\n",
       "<style scoped>\n",
       "    .dataframe tbody tr th:only-of-type {\n",
       "        vertical-align: middle;\n",
       "    }\n",
       "\n",
       "    .dataframe tbody tr th {\n",
       "        vertical-align: top;\n",
       "    }\n",
       "\n",
       "    .dataframe thead th {\n",
       "        text-align: right;\n",
       "    }\n",
       "</style>\n",
       "<table border=\"1\" class=\"dataframe\">\n",
       "  <thead>\n",
       "    <tr style=\"text-align: right;\">\n",
       "      <th>Actual_values</th>\n",
       "      <th>0</th>\n",
       "      <th>1</th>\n",
       "    </tr>\n",
       "    <tr>\n",
       "      <th>target</th>\n",
       "      <th></th>\n",
       "      <th></th>\n",
       "    </tr>\n",
       "  </thead>\n",
       "  <tbody>\n",
       "    <tr>\n",
       "      <td>0</td>\n",
       "      <td>35559</td>\n",
       "      <td>478</td>\n",
       "    </tr>\n",
       "    <tr>\n",
       "      <td>1</td>\n",
       "      <td>2926</td>\n",
       "      <td>1086</td>\n",
       "    </tr>\n",
       "  </tbody>\n",
       "</table>\n",
       "</div>"
      ],
      "text/plain": [
       "Actual_values      0     1\n",
       "target                    \n",
       "0              35559   478\n",
       "1               2926  1086"
      ]
     },
     "execution_count": 44,
     "metadata": {},
     "output_type": "execute_result"
    }
   ],
   "source": [
    "con_mat2 "
   ]
  },
  {
   "cell_type": "code",
   "execution_count": 45,
   "metadata": {},
   "outputs": [],
   "source": [
    "TN = con_mat2.iloc[0,0]\n",
    "FN = con_mat2.iloc[1,0]\n",
    "TP = con_mat2.iloc[1,1]\n",
    "FP = con_mat2.iloc[0,1]"
   ]
  },
  {
   "cell_type": "code",
   "execution_count": 46,
   "metadata": {},
   "outputs": [],
   "source": [
    "model2_accuracy = (TP+TN)/(TP+TN+FP+FN)"
   ]
  },
  {
   "cell_type": "code",
   "execution_count": 47,
   "metadata": {},
   "outputs": [
    {
     "data": {
      "text/plain": [
       "0.9150041199530575"
      ]
     },
     "execution_count": 47,
     "metadata": {},
     "output_type": "execute_result"
    }
   ],
   "source": [
    "model2_accuracy"
   ]
  },
  {
   "cell_type": "code",
   "execution_count": 48,
   "metadata": {},
   "outputs": [],
   "source": [
    "model2_precision = (TP)/(TP+FP)"
   ]
  },
  {
   "cell_type": "code",
   "execution_count": 49,
   "metadata": {},
   "outputs": [
    {
     "data": {
      "text/plain": [
       "0.6943734015345269"
      ]
     },
     "execution_count": 49,
     "metadata": {},
     "output_type": "execute_result"
    }
   ],
   "source": [
    "model2_precision"
   ]
  },
  {
   "cell_type": "code",
   "execution_count": 50,
   "metadata": {},
   "outputs": [],
   "source": [
    "model2_recall = (TP)/(TP+FN)"
   ]
  },
  {
   "cell_type": "code",
   "execution_count": 51,
   "metadata": {},
   "outputs": [
    {
     "data": {
      "text/plain": [
       "0.2706879361914257"
      ]
     },
     "execution_count": 51,
     "metadata": {},
     "output_type": "execute_result"
    }
   ],
   "source": [
    "model2_recall"
   ]
  },
  {
   "cell_type": "code",
   "execution_count": 52,
   "metadata": {},
   "outputs": [],
   "source": [
    "model2_f1score = 2*(0.188)"
   ]
  },
  {
   "cell_type": "code",
   "execution_count": 53,
   "metadata": {},
   "outputs": [
    {
     "data": {
      "text/plain": [
       "0.376"
      ]
     },
     "execution_count": 53,
     "metadata": {},
     "output_type": "execute_result"
    }
   ],
   "source": [
    "model2_f1score"
   ]
  },
  {
   "cell_type": "code",
   "execution_count": null,
   "metadata": {},
   "outputs": [],
   "source": [
    "################################################# Naive Bayes ################################################################\n",
    "#Accuracy = 92.23 %\n",
    "#Precision = 70.80\n",
    "#Recall = 36.68\n",
    "#F1 score = 48.2"
   ]
  },
  {
   "cell_type": "code",
   "execution_count": 54,
   "metadata": {},
   "outputs": [],
   "source": [
    "model3 = GaussianNB().fit(X_train, Y_train)"
   ]
  },
  {
   "cell_type": "code",
   "execution_count": 55,
   "metadata": {},
   "outputs": [
    {
     "data": {
      "text/plain": [
       "GaussianNB(priors=None, var_smoothing=1e-09)"
      ]
     },
     "execution_count": 55,
     "metadata": {},
     "output_type": "execute_result"
    }
   ],
   "source": [
    "model3"
   ]
  },
  {
   "cell_type": "code",
   "execution_count": 56,
   "metadata": {},
   "outputs": [],
   "source": [
    "model3_pred = model3.predict(X_test)"
   ]
  },
  {
   "cell_type": "code",
   "execution_count": 57,
   "metadata": {},
   "outputs": [],
   "source": [
    "con_mat3 = pd.crosstab(Y_test, model3_pred)"
   ]
  },
  {
   "cell_type": "code",
   "execution_count": 58,
   "metadata": {},
   "outputs": [
    {
     "data": {
      "text/html": [
       "<div>\n",
       "<style scoped>\n",
       "    .dataframe tbody tr th:only-of-type {\n",
       "        vertical-align: middle;\n",
       "    }\n",
       "\n",
       "    .dataframe tbody tr th {\n",
       "        vertical-align: top;\n",
       "    }\n",
       "\n",
       "    .dataframe thead th {\n",
       "        text-align: right;\n",
       "    }\n",
       "</style>\n",
       "<table border=\"1\" class=\"dataframe\">\n",
       "  <thead>\n",
       "    <tr style=\"text-align: right;\">\n",
       "      <th>col_0</th>\n",
       "      <th>0.0</th>\n",
       "      <th>1.0</th>\n",
       "    </tr>\n",
       "    <tr>\n",
       "      <th>row_0</th>\n",
       "      <th></th>\n",
       "      <th></th>\n",
       "    </tr>\n",
       "  </thead>\n",
       "  <tbody>\n",
       "    <tr>\n",
       "      <td>0.0</td>\n",
       "      <td>35387</td>\n",
       "      <td>577</td>\n",
       "    </tr>\n",
       "    <tr>\n",
       "      <td>1.0</td>\n",
       "      <td>2569</td>\n",
       "      <td>1467</td>\n",
       "    </tr>\n",
       "  </tbody>\n",
       "</table>\n",
       "</div>"
      ],
      "text/plain": [
       "col_0    0.0   1.0\n",
       "row_0             \n",
       "0.0    35387   577\n",
       "1.0     2569  1467"
      ]
     },
     "execution_count": 58,
     "metadata": {},
     "output_type": "execute_result"
    }
   ],
   "source": [
    "con_mat3"
   ]
  },
  {
   "cell_type": "code",
   "execution_count": 59,
   "metadata": {},
   "outputs": [],
   "source": [
    "TN = con_mat3.iloc[0,0]\n",
    "FN = con_mat3.iloc[1,0]\n",
    "TP = con_mat3.iloc[1,1]\n",
    "FP = con_mat3.iloc[0,1]"
   ]
  },
  {
   "cell_type": "code",
   "execution_count": 60,
   "metadata": {},
   "outputs": [],
   "source": [
    "model3_accuracy = accuracy_score(Y_test, model3_pred)*100"
   ]
  },
  {
   "cell_type": "code",
   "execution_count": 61,
   "metadata": {},
   "outputs": [
    {
     "data": {
      "text/plain": [
       "92.135"
      ]
     },
     "execution_count": 61,
     "metadata": {},
     "output_type": "execute_result"
    }
   ],
   "source": [
    "model3_accuracy"
   ]
  },
  {
   "cell_type": "code",
   "execution_count": 62,
   "metadata": {},
   "outputs": [],
   "source": [
    "model3_precision = (TP)/(TP+FP)"
   ]
  },
  {
   "cell_type": "code",
   "execution_count": 63,
   "metadata": {},
   "outputs": [
    {
     "data": {
      "text/plain": [
       "0.7177103718199609"
      ]
     },
     "execution_count": 63,
     "metadata": {},
     "output_type": "execute_result"
    }
   ],
   "source": [
    "model3_precision"
   ]
  },
  {
   "cell_type": "code",
   "execution_count": 64,
   "metadata": {},
   "outputs": [],
   "source": [
    "model3_recall = (TP)/(TP+FN)"
   ]
  },
  {
   "cell_type": "code",
   "execution_count": 65,
   "metadata": {},
   "outputs": [
    {
     "data": {
      "text/plain": [
       "0.3634786917740337"
      ]
     },
     "execution_count": 65,
     "metadata": {},
     "output_type": "execute_result"
    }
   ],
   "source": [
    "model3_recall"
   ]
  },
  {
   "cell_type": "code",
   "execution_count": 66,
   "metadata": {},
   "outputs": [],
   "source": [
    "model3_f1score = 2*(0.241)"
   ]
  },
  {
   "cell_type": "code",
   "execution_count": 67,
   "metadata": {},
   "outputs": [
    {
     "data": {
      "text/plain": [
       "0.482"
      ]
     },
     "execution_count": 67,
     "metadata": {},
     "output_type": "execute_result"
    }
   ],
   "source": [
    "model3_f1score"
   ]
  },
  {
   "cell_type": "code",
   "execution_count": 68,
   "metadata": {},
   "outputs": [
    {
     "data": {
      "text/plain": [
       "array([0., 0., 0., ..., 0., 0., 0.])"
      ]
     },
     "execution_count": 68,
     "metadata": {},
     "output_type": "execute_result"
    }
   ],
   "source": [
    "model3_pred"
   ]
  },
  {
   "cell_type": "code",
   "execution_count": 79,
   "metadata": {},
   "outputs": [],
   "source": [
    "test = pd.read_csv(\"test.csv\")"
   ]
  },
  {
   "cell_type": "code",
   "execution_count": 88,
   "metadata": {},
   "outputs": [
    {
     "data": {
      "text/html": [
       "<div>\n",
       "<style scoped>\n",
       "    .dataframe tbody tr th:only-of-type {\n",
       "        vertical-align: middle;\n",
       "    }\n",
       "\n",
       "    .dataframe tbody tr th {\n",
       "        vertical-align: top;\n",
       "    }\n",
       "\n",
       "    .dataframe thead th {\n",
       "        text-align: right;\n",
       "    }\n",
       "</style>\n",
       "<table border=\"1\" class=\"dataframe\">\n",
       "  <thead>\n",
       "    <tr style=\"text-align: right;\">\n",
       "      <th></th>\n",
       "      <th>ID_code</th>\n",
       "      <th>var_0</th>\n",
       "      <th>var_1</th>\n",
       "      <th>var_2</th>\n",
       "      <th>var_3</th>\n",
       "      <th>var_4</th>\n",
       "      <th>var_5</th>\n",
       "      <th>var_6</th>\n",
       "      <th>var_7</th>\n",
       "      <th>var_8</th>\n",
       "      <th>...</th>\n",
       "      <th>var_190</th>\n",
       "      <th>var_191</th>\n",
       "      <th>var_192</th>\n",
       "      <th>var_193</th>\n",
       "      <th>var_194</th>\n",
       "      <th>var_195</th>\n",
       "      <th>var_196</th>\n",
       "      <th>var_197</th>\n",
       "      <th>var_198</th>\n",
       "      <th>var_199</th>\n",
       "    </tr>\n",
       "  </thead>\n",
       "  <tbody>\n",
       "    <tr>\n",
       "      <td>0</td>\n",
       "      <td>test_0</td>\n",
       "      <td>11.0656</td>\n",
       "      <td>7.7798</td>\n",
       "      <td>12.9536</td>\n",
       "      <td>9.4292</td>\n",
       "      <td>11.4327</td>\n",
       "      <td>-2.3805</td>\n",
       "      <td>5.8493</td>\n",
       "      <td>18.2675</td>\n",
       "      <td>2.1337</td>\n",
       "      <td>...</td>\n",
       "      <td>-2.1556</td>\n",
       "      <td>11.8495</td>\n",
       "      <td>-1.4300</td>\n",
       "      <td>2.4508</td>\n",
       "      <td>13.7112</td>\n",
       "      <td>2.4669</td>\n",
       "      <td>4.3654</td>\n",
       "      <td>10.7200</td>\n",
       "      <td>15.4722</td>\n",
       "      <td>-8.7197</td>\n",
       "    </tr>\n",
       "    <tr>\n",
       "      <td>1</td>\n",
       "      <td>test_1</td>\n",
       "      <td>8.5304</td>\n",
       "      <td>1.2543</td>\n",
       "      <td>11.3047</td>\n",
       "      <td>5.1858</td>\n",
       "      <td>9.1974</td>\n",
       "      <td>-4.0117</td>\n",
       "      <td>6.0196</td>\n",
       "      <td>18.6316</td>\n",
       "      <td>-4.4131</td>\n",
       "      <td>...</td>\n",
       "      <td>10.6165</td>\n",
       "      <td>8.8349</td>\n",
       "      <td>0.9403</td>\n",
       "      <td>10.1282</td>\n",
       "      <td>15.5765</td>\n",
       "      <td>0.4773</td>\n",
       "      <td>-1.4852</td>\n",
       "      <td>9.8714</td>\n",
       "      <td>19.1293</td>\n",
       "      <td>-20.9760</td>\n",
       "    </tr>\n",
       "    <tr>\n",
       "      <td>2</td>\n",
       "      <td>test_2</td>\n",
       "      <td>5.4827</td>\n",
       "      <td>-10.3581</td>\n",
       "      <td>10.1407</td>\n",
       "      <td>7.0479</td>\n",
       "      <td>10.2628</td>\n",
       "      <td>9.8052</td>\n",
       "      <td>4.8950</td>\n",
       "      <td>20.2537</td>\n",
       "      <td>1.5233</td>\n",
       "      <td>...</td>\n",
       "      <td>-0.7484</td>\n",
       "      <td>10.9935</td>\n",
       "      <td>1.9803</td>\n",
       "      <td>2.1800</td>\n",
       "      <td>12.9813</td>\n",
       "      <td>2.1281</td>\n",
       "      <td>-7.1086</td>\n",
       "      <td>7.0618</td>\n",
       "      <td>19.8956</td>\n",
       "      <td>-23.1794</td>\n",
       "    </tr>\n",
       "    <tr>\n",
       "      <td>3</td>\n",
       "      <td>test_3</td>\n",
       "      <td>8.5374</td>\n",
       "      <td>-1.3222</td>\n",
       "      <td>12.0220</td>\n",
       "      <td>6.5749</td>\n",
       "      <td>8.8458</td>\n",
       "      <td>3.1744</td>\n",
       "      <td>4.9397</td>\n",
       "      <td>20.5660</td>\n",
       "      <td>3.3755</td>\n",
       "      <td>...</td>\n",
       "      <td>9.5702</td>\n",
       "      <td>9.0766</td>\n",
       "      <td>1.6580</td>\n",
       "      <td>3.5813</td>\n",
       "      <td>15.1874</td>\n",
       "      <td>3.1656</td>\n",
       "      <td>3.9567</td>\n",
       "      <td>9.2295</td>\n",
       "      <td>13.0168</td>\n",
       "      <td>-4.2108</td>\n",
       "    </tr>\n",
       "    <tr>\n",
       "      <td>4</td>\n",
       "      <td>test_4</td>\n",
       "      <td>11.7058</td>\n",
       "      <td>-0.1327</td>\n",
       "      <td>14.1295</td>\n",
       "      <td>7.7506</td>\n",
       "      <td>9.1035</td>\n",
       "      <td>-8.5848</td>\n",
       "      <td>6.8595</td>\n",
       "      <td>10.6048</td>\n",
       "      <td>2.9890</td>\n",
       "      <td>...</td>\n",
       "      <td>4.2259</td>\n",
       "      <td>9.1723</td>\n",
       "      <td>1.2835</td>\n",
       "      <td>3.3778</td>\n",
       "      <td>19.5542</td>\n",
       "      <td>-0.2860</td>\n",
       "      <td>-5.1612</td>\n",
       "      <td>7.2882</td>\n",
       "      <td>13.9260</td>\n",
       "      <td>-9.1846</td>\n",
       "    </tr>\n",
       "  </tbody>\n",
       "</table>\n",
       "<p>5 rows × 201 columns</p>\n",
       "</div>"
      ],
      "text/plain": [
       "  ID_code    var_0    var_1    var_2   var_3    var_4   var_5   var_6  \\\n",
       "0  test_0  11.0656   7.7798  12.9536  9.4292  11.4327 -2.3805  5.8493   \n",
       "1  test_1   8.5304   1.2543  11.3047  5.1858   9.1974 -4.0117  6.0196   \n",
       "2  test_2   5.4827 -10.3581  10.1407  7.0479  10.2628  9.8052  4.8950   \n",
       "3  test_3   8.5374  -1.3222  12.0220  6.5749   8.8458  3.1744  4.9397   \n",
       "4  test_4  11.7058  -0.1327  14.1295  7.7506   9.1035 -8.5848  6.8595   \n",
       "\n",
       "     var_7   var_8  ...  var_190  var_191  var_192  var_193  var_194  var_195  \\\n",
       "0  18.2675  2.1337  ...  -2.1556  11.8495  -1.4300   2.4508  13.7112   2.4669   \n",
       "1  18.6316 -4.4131  ...  10.6165   8.8349   0.9403  10.1282  15.5765   0.4773   \n",
       "2  20.2537  1.5233  ...  -0.7484  10.9935   1.9803   2.1800  12.9813   2.1281   \n",
       "3  20.5660  3.3755  ...   9.5702   9.0766   1.6580   3.5813  15.1874   3.1656   \n",
       "4  10.6048  2.9890  ...   4.2259   9.1723   1.2835   3.3778  19.5542  -0.2860   \n",
       "\n",
       "   var_196  var_197  var_198  var_199  \n",
       "0   4.3654  10.7200  15.4722  -8.7197  \n",
       "1  -1.4852   9.8714  19.1293 -20.9760  \n",
       "2  -7.1086   7.0618  19.8956 -23.1794  \n",
       "3   3.9567   9.2295  13.0168  -4.2108  \n",
       "4  -5.1612   7.2882  13.9260  -9.1846  \n",
       "\n",
       "[5 rows x 201 columns]"
      ]
     },
     "execution_count": 88,
     "metadata": {},
     "output_type": "execute_result"
    }
   ],
   "source": [
    "test.head(5)"
   ]
  },
  {
   "cell_type": "code",
   "execution_count": 77,
   "metadata": {},
   "outputs": [
    {
     "ename": "NameError",
     "evalue": "name 'test' is not defined",
     "output_type": "error",
     "traceback": [
      "\u001b[1;31m---------------------------------------------------------------------------\u001b[0m",
      "\u001b[1;31mNameError\u001b[0m                                 Traceback (most recent call last)",
      "\u001b[1;32m<ipython-input-77-b11e87c37563>\u001b[0m in \u001b[0;36m<module>\u001b[1;34m\u001b[0m\n\u001b[1;32m----> 1\u001b[1;33m \u001b[0mfinal\u001b[0m \u001b[1;33m=\u001b[0m \u001b[0mpd\u001b[0m\u001b[1;33m.\u001b[0m\u001b[0mDataFrame\u001b[0m\u001b[1;33m(\u001b[0m\u001b[1;33m{\u001b[0m\u001b[1;34m\"ID_code\"\u001b[0m \u001b[1;33m:\u001b[0m \u001b[0mtest\u001b[0m\u001b[1;33m.\u001b[0m\u001b[0mID_code\u001b[0m\u001b[1;33m.\u001b[0m\u001b[0mvalues\u001b[0m\u001b[1;33m}\u001b[0m\u001b[1;33m)\u001b[0m\u001b[1;33m\u001b[0m\u001b[1;33m\u001b[0m\u001b[0m\n\u001b[0m\u001b[0;32m      2\u001b[0m \u001b[0mfinal\u001b[0m\u001b[1;33m[\u001b[0m\u001b[1;34m\"target\"\u001b[0m\u001b[1;33m]\u001b[0m \u001b[1;33m=\u001b[0m \u001b[0mmodel3_pred\u001b[0m\u001b[1;33m\u001b[0m\u001b[1;33m\u001b[0m\u001b[0m\n",
      "\u001b[1;31mNameError\u001b[0m: name 'test' is not defined"
     ]
    }
   ],
   "source": [
    "final = pd.DataFrame({\"ID_code\" : test.ID_code.values})\n",
    "final[\"target\"] = model3_pred"
   ]
  },
  {
   "cell_type": "code",
   "execution_count": null,
   "metadata": {},
   "outputs": [],
   "source": []
  }
 ],
 "metadata": {
  "kernelspec": {
   "display_name": "Python 3",
   "language": "python",
   "name": "python3"
  },
  "language_info": {
   "codemirror_mode": {
    "name": "ipython",
    "version": 3
   },
   "file_extension": ".py",
   "mimetype": "text/x-python",
   "name": "python",
   "nbconvert_exporter": "python",
   "pygments_lexer": "ipython3",
   "version": "3.7.3"
  }
 },
 "nbformat": 4,
 "nbformat_minor": 2
}
